{
 "cells": [
  {
   "cell_type": "markdown",
   "id": "babbd777",
   "metadata": {},
   "source": [
    "# Covid Data Analysis\n"
   ]
  },
  {
   "cell_type": "code",
   "execution_count": 2,
   "id": "1cbf4bf1",
   "metadata": {},
   "outputs": [],
   "source": [
    "# importing data set \n",
    "import pandas as pd\n",
    "import numpy as np\n"
   ]
  },
  {
   "cell_type": "code",
   "execution_count": 3,
   "id": "cf059db7",
   "metadata": {},
   "outputs": [],
   "source": [
    "covid=pd.read_csv('D:\\\\Drive into Analysis\\\\Covid Data Analysis\\\\covid.csv')"
   ]
  },
  {
   "cell_type": "code",
   "execution_count": 4,
   "id": "8c3e7f1b",
   "metadata": {},
   "outputs": [
    {
     "data": {
      "text/html": [
       "<div>\n",
       "<style scoped>\n",
       "    .dataframe tbody tr th:only-of-type {\n",
       "        vertical-align: middle;\n",
       "    }\n",
       "\n",
       "    .dataframe tbody tr th {\n",
       "        vertical-align: top;\n",
       "    }\n",
       "\n",
       "    .dataframe thead th {\n",
       "        text-align: right;\n",
       "    }\n",
       "</style>\n",
       "<table border=\"1\" class=\"dataframe\">\n",
       "  <thead>\n",
       "    <tr style=\"text-align: right;\">\n",
       "      <th></th>\n",
       "      <th>Country/Region</th>\n",
       "      <th>Continent</th>\n",
       "      <th>Population</th>\n",
       "      <th>TotalCases</th>\n",
       "      <th>NewCases</th>\n",
       "      <th>TotalDeaths</th>\n",
       "      <th>NewDeaths</th>\n",
       "      <th>TotalRecovered</th>\n",
       "      <th>NewRecovered</th>\n",
       "      <th>ActiveCases</th>\n",
       "      <th>Serious,Critical</th>\n",
       "      <th>Tot Cases/1M pop</th>\n",
       "      <th>Deaths/1M pop</th>\n",
       "      <th>TotalTests</th>\n",
       "      <th>Tests/1M pop</th>\n",
       "      <th>WHO Region</th>\n",
       "      <th>iso_alpha</th>\n",
       "    </tr>\n",
       "  </thead>\n",
       "  <tbody>\n",
       "    <tr>\n",
       "      <th>0</th>\n",
       "      <td>USA</td>\n",
       "      <td>North America</td>\n",
       "      <td>3.311981e+08</td>\n",
       "      <td>5032179</td>\n",
       "      <td>NaN</td>\n",
       "      <td>162804.0</td>\n",
       "      <td>NaN</td>\n",
       "      <td>2576668.0</td>\n",
       "      <td>NaN</td>\n",
       "      <td>2292707.0</td>\n",
       "      <td>18296.0</td>\n",
       "      <td>15194.0</td>\n",
       "      <td>492.0</td>\n",
       "      <td>63139605.0</td>\n",
       "      <td>190640.0</td>\n",
       "      <td>Americas</td>\n",
       "      <td>USA</td>\n",
       "    </tr>\n",
       "    <tr>\n",
       "      <th>1</th>\n",
       "      <td>Brazil</td>\n",
       "      <td>South America</td>\n",
       "      <td>2.127107e+08</td>\n",
       "      <td>2917562</td>\n",
       "      <td>NaN</td>\n",
       "      <td>98644.0</td>\n",
       "      <td>NaN</td>\n",
       "      <td>2047660.0</td>\n",
       "      <td>NaN</td>\n",
       "      <td>771258.0</td>\n",
       "      <td>8318.0</td>\n",
       "      <td>13716.0</td>\n",
       "      <td>464.0</td>\n",
       "      <td>13206188.0</td>\n",
       "      <td>62085.0</td>\n",
       "      <td>Americas</td>\n",
       "      <td>BRA</td>\n",
       "    </tr>\n",
       "    <tr>\n",
       "      <th>2</th>\n",
       "      <td>India</td>\n",
       "      <td>Asia</td>\n",
       "      <td>1.381345e+09</td>\n",
       "      <td>2025409</td>\n",
       "      <td>NaN</td>\n",
       "      <td>41638.0</td>\n",
       "      <td>NaN</td>\n",
       "      <td>1377384.0</td>\n",
       "      <td>NaN</td>\n",
       "      <td>606387.0</td>\n",
       "      <td>8944.0</td>\n",
       "      <td>1466.0</td>\n",
       "      <td>30.0</td>\n",
       "      <td>22149351.0</td>\n",
       "      <td>16035.0</td>\n",
       "      <td>South-EastAsia</td>\n",
       "      <td>IND</td>\n",
       "    </tr>\n",
       "    <tr>\n",
       "      <th>3</th>\n",
       "      <td>Russia</td>\n",
       "      <td>Europe</td>\n",
       "      <td>1.459409e+08</td>\n",
       "      <td>871894</td>\n",
       "      <td>NaN</td>\n",
       "      <td>14606.0</td>\n",
       "      <td>NaN</td>\n",
       "      <td>676357.0</td>\n",
       "      <td>NaN</td>\n",
       "      <td>180931.0</td>\n",
       "      <td>2300.0</td>\n",
       "      <td>5974.0</td>\n",
       "      <td>100.0</td>\n",
       "      <td>29716907.0</td>\n",
       "      <td>203623.0</td>\n",
       "      <td>Europe</td>\n",
       "      <td>RUS</td>\n",
       "    </tr>\n",
       "    <tr>\n",
       "      <th>4</th>\n",
       "      <td>South Africa</td>\n",
       "      <td>Africa</td>\n",
       "      <td>5.938157e+07</td>\n",
       "      <td>538184</td>\n",
       "      <td>NaN</td>\n",
       "      <td>9604.0</td>\n",
       "      <td>NaN</td>\n",
       "      <td>387316.0</td>\n",
       "      <td>NaN</td>\n",
       "      <td>141264.0</td>\n",
       "      <td>539.0</td>\n",
       "      <td>9063.0</td>\n",
       "      <td>162.0</td>\n",
       "      <td>3149807.0</td>\n",
       "      <td>53044.0</td>\n",
       "      <td>Africa</td>\n",
       "      <td>ZAF</td>\n",
       "    </tr>\n",
       "  </tbody>\n",
       "</table>\n",
       "</div>"
      ],
      "text/plain": [
       "  Country/Region      Continent    Population  TotalCases  NewCases  \\\n",
       "0            USA  North America  3.311981e+08     5032179       NaN   \n",
       "1         Brazil  South America  2.127107e+08     2917562       NaN   \n",
       "2          India           Asia  1.381345e+09     2025409       NaN   \n",
       "3         Russia         Europe  1.459409e+08      871894       NaN   \n",
       "4   South Africa         Africa  5.938157e+07      538184       NaN   \n",
       "\n",
       "   TotalDeaths  NewDeaths  TotalRecovered  NewRecovered  ActiveCases  \\\n",
       "0     162804.0        NaN       2576668.0           NaN    2292707.0   \n",
       "1      98644.0        NaN       2047660.0           NaN     771258.0   \n",
       "2      41638.0        NaN       1377384.0           NaN     606387.0   \n",
       "3      14606.0        NaN        676357.0           NaN     180931.0   \n",
       "4       9604.0        NaN        387316.0           NaN     141264.0   \n",
       "\n",
       "   Serious,Critical  Tot Cases/1M pop  Deaths/1M pop  TotalTests  \\\n",
       "0           18296.0           15194.0          492.0  63139605.0   \n",
       "1            8318.0           13716.0          464.0  13206188.0   \n",
       "2            8944.0            1466.0           30.0  22149351.0   \n",
       "3            2300.0            5974.0          100.0  29716907.0   \n",
       "4             539.0            9063.0          162.0   3149807.0   \n",
       "\n",
       "   Tests/1M pop      WHO Region iso_alpha  \n",
       "0      190640.0        Americas       USA  \n",
       "1       62085.0        Americas       BRA  \n",
       "2       16035.0  South-EastAsia       IND  \n",
       "3      203623.0          Europe       RUS  \n",
       "4       53044.0          Africa       ZAF  "
      ]
     },
     "execution_count": 4,
     "metadata": {},
     "output_type": "execute_result"
    }
   ],
   "source": [
    "covid.head()"
   ]
  },
  {
   "cell_type": "code",
   "execution_count": 5,
   "id": "cac650c7",
   "metadata": {},
   "outputs": [
    {
     "data": {
      "text/plain": [
       "(209, 17)"
      ]
     },
     "execution_count": 5,
     "metadata": {},
     "output_type": "execute_result"
    }
   ],
   "source": [
    "covid.shape"
   ]
  },
  {
   "cell_type": "code",
   "execution_count": 6,
   "id": "50a993fa",
   "metadata": {},
   "outputs": [
    {
     "name": "stdout",
     "output_type": "stream",
     "text": [
      "<class 'pandas.core.frame.DataFrame'>\n",
      "RangeIndex: 209 entries, 0 to 208\n",
      "Data columns (total 17 columns):\n",
      " #   Column            Non-Null Count  Dtype  \n",
      "---  ------            --------------  -----  \n",
      " 0   Country/Region    209 non-null    object \n",
      " 1   Continent         208 non-null    object \n",
      " 2   Population        208 non-null    float64\n",
      " 3   TotalCases        209 non-null    int64  \n",
      " 4   NewCases          4 non-null      float64\n",
      " 5   TotalDeaths       188 non-null    float64\n",
      " 6   NewDeaths         3 non-null      float64\n",
      " 7   TotalRecovered    205 non-null    float64\n",
      " 8   NewRecovered      3 non-null      float64\n",
      " 9   ActiveCases       205 non-null    float64\n",
      " 10  Serious,Critical  122 non-null    float64\n",
      " 11  Tot Cases/1M pop  208 non-null    float64\n",
      " 12  Deaths/1M pop     187 non-null    float64\n",
      " 13  TotalTests        191 non-null    float64\n",
      " 14  Tests/1M pop      191 non-null    float64\n",
      " 15  WHO Region        184 non-null    object \n",
      " 16  iso_alpha         209 non-null    object \n",
      "dtypes: float64(12), int64(1), object(4)\n",
      "memory usage: 27.9+ KB\n"
     ]
    }
   ],
   "source": [
    "covid.info()"
   ]
  },
  {
   "cell_type": "code",
   "execution_count": 7,
   "id": "d8720f47",
   "metadata": {},
   "outputs": [],
   "source": [
    "covid.drop(columns=['NewCases','NewDeaths','NewRecovered'],inplace=True)"
   ]
  },
  {
   "cell_type": "code",
   "execution_count": 8,
   "id": "bf43e751",
   "metadata": {},
   "outputs": [],
   "source": [
    "covid_grouped=pd.read_csv('D:\\\\Drive into Analysis\\\\Covid Data Analysis\\\\covid_grouped.csv')"
   ]
  },
  {
   "cell_type": "code",
   "execution_count": 9,
   "id": "5873ca09",
   "metadata": {},
   "outputs": [
    {
     "data": {
      "text/html": [
       "<div>\n",
       "<style scoped>\n",
       "    .dataframe tbody tr th:only-of-type {\n",
       "        vertical-align: middle;\n",
       "    }\n",
       "\n",
       "    .dataframe tbody tr th {\n",
       "        vertical-align: top;\n",
       "    }\n",
       "\n",
       "    .dataframe thead th {\n",
       "        text-align: right;\n",
       "    }\n",
       "</style>\n",
       "<table border=\"1\" class=\"dataframe\">\n",
       "  <thead>\n",
       "    <tr style=\"text-align: right;\">\n",
       "      <th></th>\n",
       "      <th>Date</th>\n",
       "      <th>Country/Region</th>\n",
       "      <th>Confirmed</th>\n",
       "      <th>Deaths</th>\n",
       "      <th>Recovered</th>\n",
       "      <th>Active</th>\n",
       "      <th>New cases</th>\n",
       "      <th>New deaths</th>\n",
       "      <th>New recovered</th>\n",
       "      <th>WHO Region</th>\n",
       "      <th>iso_alpha</th>\n",
       "    </tr>\n",
       "  </thead>\n",
       "  <tbody>\n",
       "    <tr>\n",
       "      <th>0</th>\n",
       "      <td>2020-01-22</td>\n",
       "      <td>Afghanistan</td>\n",
       "      <td>0</td>\n",
       "      <td>0</td>\n",
       "      <td>0</td>\n",
       "      <td>0</td>\n",
       "      <td>0</td>\n",
       "      <td>0</td>\n",
       "      <td>0</td>\n",
       "      <td>Eastern Mediterranean</td>\n",
       "      <td>AFG</td>\n",
       "    </tr>\n",
       "    <tr>\n",
       "      <th>1</th>\n",
       "      <td>2020-01-22</td>\n",
       "      <td>Albania</td>\n",
       "      <td>0</td>\n",
       "      <td>0</td>\n",
       "      <td>0</td>\n",
       "      <td>0</td>\n",
       "      <td>0</td>\n",
       "      <td>0</td>\n",
       "      <td>0</td>\n",
       "      <td>Europe</td>\n",
       "      <td>ALB</td>\n",
       "    </tr>\n",
       "    <tr>\n",
       "      <th>2</th>\n",
       "      <td>2020-01-22</td>\n",
       "      <td>Algeria</td>\n",
       "      <td>0</td>\n",
       "      <td>0</td>\n",
       "      <td>0</td>\n",
       "      <td>0</td>\n",
       "      <td>0</td>\n",
       "      <td>0</td>\n",
       "      <td>0</td>\n",
       "      <td>Africa</td>\n",
       "      <td>DZA</td>\n",
       "    </tr>\n",
       "    <tr>\n",
       "      <th>3</th>\n",
       "      <td>2020-01-22</td>\n",
       "      <td>Andorra</td>\n",
       "      <td>0</td>\n",
       "      <td>0</td>\n",
       "      <td>0</td>\n",
       "      <td>0</td>\n",
       "      <td>0</td>\n",
       "      <td>0</td>\n",
       "      <td>0</td>\n",
       "      <td>Europe</td>\n",
       "      <td>AND</td>\n",
       "    </tr>\n",
       "    <tr>\n",
       "      <th>4</th>\n",
       "      <td>2020-01-22</td>\n",
       "      <td>Angola</td>\n",
       "      <td>0</td>\n",
       "      <td>0</td>\n",
       "      <td>0</td>\n",
       "      <td>0</td>\n",
       "      <td>0</td>\n",
       "      <td>0</td>\n",
       "      <td>0</td>\n",
       "      <td>Africa</td>\n",
       "      <td>AGO</td>\n",
       "    </tr>\n",
       "  </tbody>\n",
       "</table>\n",
       "</div>"
      ],
      "text/plain": [
       "         Date Country/Region  Confirmed  Deaths  Recovered  Active  New cases  \\\n",
       "0  2020-01-22    Afghanistan          0       0          0       0          0   \n",
       "1  2020-01-22        Albania          0       0          0       0          0   \n",
       "2  2020-01-22        Algeria          0       0          0       0          0   \n",
       "3  2020-01-22        Andorra          0       0          0       0          0   \n",
       "4  2020-01-22         Angola          0       0          0       0          0   \n",
       "\n",
       "   New deaths  New recovered             WHO Region iso_alpha  \n",
       "0           0              0  Eastern Mediterranean       AFG  \n",
       "1           0              0                 Europe       ALB  \n",
       "2           0              0                 Africa       DZA  \n",
       "3           0              0                 Europe       AND  \n",
       "4           0              0                 Africa       AGO  "
      ]
     },
     "execution_count": 9,
     "metadata": {},
     "output_type": "execute_result"
    }
   ],
   "source": [
    "covid_grouped.head()"
   ]
  },
  {
   "cell_type": "code",
   "execution_count": 10,
   "id": "446976d6",
   "metadata": {},
   "outputs": [
    {
     "data": {
      "text/plain": [
       "(35156, 11)"
      ]
     },
     "execution_count": 10,
     "metadata": {},
     "output_type": "execute_result"
    }
   ],
   "source": [
    "covid_grouped.shape"
   ]
  },
  {
   "cell_type": "code",
   "execution_count": 11,
   "id": "618dcc14",
   "metadata": {},
   "outputs": [
    {
     "name": "stdout",
     "output_type": "stream",
     "text": [
      "<class 'pandas.core.frame.DataFrame'>\n",
      "RangeIndex: 35156 entries, 0 to 35155\n",
      "Data columns (total 11 columns):\n",
      " #   Column          Non-Null Count  Dtype \n",
      "---  ------          --------------  ----- \n",
      " 0   Date            35156 non-null  object\n",
      " 1   Country/Region  35156 non-null  object\n",
      " 2   Confirmed       35156 non-null  int64 \n",
      " 3   Deaths          35156 non-null  int64 \n",
      " 4   Recovered       35156 non-null  int64 \n",
      " 5   Active          35156 non-null  int64 \n",
      " 6   New cases       35156 non-null  int64 \n",
      " 7   New deaths      35156 non-null  int64 \n",
      " 8   New recovered   35156 non-null  int64 \n",
      " 9   WHO Region      35156 non-null  object\n",
      " 10  iso_alpha       35156 non-null  object\n",
      "dtypes: int64(7), object(4)\n",
      "memory usage: 3.0+ MB\n"
     ]
    }
   ],
   "source": [
    "covid_grouped.info()"
   ]
  },
  {
   "cell_type": "code",
   "execution_count": 12,
   "id": "a1fc52c1",
   "metadata": {},
   "outputs": [],
   "source": [
    "covid_deaths=pd.read_csv('D:\\\\Drive into Analysis\\\\Covid Data Analysis\\\\coviddeath.csv')"
   ]
  },
  {
   "cell_type": "code",
   "execution_count": 13,
   "id": "aba17639",
   "metadata": {},
   "outputs": [
    {
     "data": {
      "text/html": [
       "<div>\n",
       "<style scoped>\n",
       "    .dataframe tbody tr th:only-of-type {\n",
       "        vertical-align: middle;\n",
       "    }\n",
       "\n",
       "    .dataframe tbody tr th {\n",
       "        vertical-align: top;\n",
       "    }\n",
       "\n",
       "    .dataframe thead th {\n",
       "        text-align: right;\n",
       "    }\n",
       "</style>\n",
       "<table border=\"1\" class=\"dataframe\">\n",
       "  <thead>\n",
       "    <tr style=\"text-align: right;\">\n",
       "      <th></th>\n",
       "      <th>Data as of</th>\n",
       "      <th>Start Week</th>\n",
       "      <th>End Week</th>\n",
       "      <th>State</th>\n",
       "      <th>Condition Group</th>\n",
       "      <th>Condition</th>\n",
       "      <th>ICD10_codes</th>\n",
       "      <th>Age Group</th>\n",
       "      <th>Number of COVID-19 Deaths</th>\n",
       "      <th>Flag</th>\n",
       "    </tr>\n",
       "  </thead>\n",
       "  <tbody>\n",
       "    <tr>\n",
       "      <th>0</th>\n",
       "      <td>08/30/2020</td>\n",
       "      <td>02/01/2020</td>\n",
       "      <td>08/29/2020</td>\n",
       "      <td>US</td>\n",
       "      <td>Respiratory diseases</td>\n",
       "      <td>Influenza and pneumonia</td>\n",
       "      <td>J09-J18</td>\n",
       "      <td>0-24</td>\n",
       "      <td>122.0</td>\n",
       "      <td>NaN</td>\n",
       "    </tr>\n",
       "    <tr>\n",
       "      <th>1</th>\n",
       "      <td>08/30/2020</td>\n",
       "      <td>02/01/2020</td>\n",
       "      <td>08/29/2020</td>\n",
       "      <td>US</td>\n",
       "      <td>Respiratory diseases</td>\n",
       "      <td>Influenza and pneumonia</td>\n",
       "      <td>J09-J18</td>\n",
       "      <td>25-34</td>\n",
       "      <td>596.0</td>\n",
       "      <td>NaN</td>\n",
       "    </tr>\n",
       "    <tr>\n",
       "      <th>2</th>\n",
       "      <td>08/30/2020</td>\n",
       "      <td>02/01/2020</td>\n",
       "      <td>08/29/2020</td>\n",
       "      <td>US</td>\n",
       "      <td>Respiratory diseases</td>\n",
       "      <td>Influenza and pneumonia</td>\n",
       "      <td>J09-J18</td>\n",
       "      <td>35-44</td>\n",
       "      <td>1521.0</td>\n",
       "      <td>NaN</td>\n",
       "    </tr>\n",
       "    <tr>\n",
       "      <th>3</th>\n",
       "      <td>08/30/2020</td>\n",
       "      <td>02/01/2020</td>\n",
       "      <td>08/29/2020</td>\n",
       "      <td>US</td>\n",
       "      <td>Respiratory diseases</td>\n",
       "      <td>Influenza and pneumonia</td>\n",
       "      <td>J09-J18</td>\n",
       "      <td>45-54</td>\n",
       "      <td>4186.0</td>\n",
       "      <td>NaN</td>\n",
       "    </tr>\n",
       "    <tr>\n",
       "      <th>4</th>\n",
       "      <td>08/30/2020</td>\n",
       "      <td>02/01/2020</td>\n",
       "      <td>08/29/2020</td>\n",
       "      <td>US</td>\n",
       "      <td>Respiratory diseases</td>\n",
       "      <td>Influenza and pneumonia</td>\n",
       "      <td>J09-J18</td>\n",
       "      <td>55-64</td>\n",
       "      <td>10014.0</td>\n",
       "      <td>NaN</td>\n",
       "    </tr>\n",
       "  </tbody>\n",
       "</table>\n",
       "</div>"
      ],
      "text/plain": [
       "   Data as of  Start Week    End Week State       Condition Group  \\\n",
       "0  08/30/2020  02/01/2020  08/29/2020    US  Respiratory diseases   \n",
       "1  08/30/2020  02/01/2020  08/29/2020    US  Respiratory diseases   \n",
       "2  08/30/2020  02/01/2020  08/29/2020    US  Respiratory diseases   \n",
       "3  08/30/2020  02/01/2020  08/29/2020    US  Respiratory diseases   \n",
       "4  08/30/2020  02/01/2020  08/29/2020    US  Respiratory diseases   \n",
       "\n",
       "                 Condition ICD10_codes Age Group  Number of COVID-19 Deaths  \\\n",
       "0  Influenza and pneumonia     J09-J18      0-24                      122.0   \n",
       "1  Influenza and pneumonia     J09-J18     25-34                      596.0   \n",
       "2  Influenza and pneumonia     J09-J18     35-44                     1521.0   \n",
       "3  Influenza and pneumonia     J09-J18     45-54                     4186.0   \n",
       "4  Influenza and pneumonia     J09-J18     55-64                    10014.0   \n",
       "\n",
       "  Flag  \n",
       "0  NaN  \n",
       "1  NaN  \n",
       "2  NaN  \n",
       "3  NaN  \n",
       "4  NaN  "
      ]
     },
     "execution_count": 13,
     "metadata": {},
     "output_type": "execute_result"
    }
   ],
   "source": [
    "covid_deaths.head()"
   ]
  },
  {
   "cell_type": "code",
   "execution_count": 14,
   "id": "ce4dd6f7",
   "metadata": {},
   "outputs": [],
   "source": [
    "import plotly.express as px\n",
    "import plotly.io as pio"
   ]
  },
  {
   "cell_type": "code",
   "execution_count": 15,
   "id": "13b03096",
   "metadata": {},
   "outputs": [
    {
     "data": {
      "application/vnd.plotly.v1+json": {
       "config": {
        "plotlyServerURL": "https://plot.ly"
       },
       "data": [
        {
         "customdata": [
          [
           "North America"
          ],
          [
           "South America"
          ],
          [
           "Asia"
          ],
          [
           "Europe"
          ],
          [
           "Africa"
          ],
          [
           "North America"
          ],
          [
           "South America"
          ],
          [
           "South America"
          ],
          [
           "South America"
          ],
          [
           "Europe"
          ],
          [
           "Asia"
          ],
          [
           "Europe"
          ],
          [
           "Asia"
          ],
          [
           "Asia"
          ],
          [
           "Asia"
          ]
         ],
         "hovertemplate": "Country/Region=%{x}<br>TotalCases=%{marker.color}<br>Continent=%{customdata[0]}<extra></extra>",
         "legendgroup": "",
         "marker": {
          "color": {
           "bdata": "88hMALqELADB5x4A1k0NAEg2CABiDwcA8fIGAE+YBQBOdQUA4mgFAHXiBACmswQAQlYEAAdNBAAzzwMA",
           "dtype": "i4"
          },
          "coloraxis": "coloraxis",
          "pattern": {
           "shape": ""
          }
         },
         "name": "",
         "orientation": "v",
         "showlegend": false,
         "textposition": "auto",
         "type": "bar",
         "x": [
          "USA",
          "Brazil",
          "India",
          "Russia",
          "South Africa",
          "Mexico",
          "Peru",
          "Chile",
          "Colombia",
          "Spain",
          "Iran",
          "UK",
          "Saudi Arabia",
          "Pakistan",
          "Bangladesh"
         ],
         "xaxis": "x",
         "y": {
          "bdata": "88hMALqELADB5x4A1k0NAEg2CABiDwcA8fIGAE+YBQBOdQUA4mgFAHXiBACmswQAQlYEAAdNBAAzzwMA",
          "dtype": "i4"
         },
         "yaxis": "y"
        }
       ],
       "layout": {
        "barmode": "relative",
        "coloraxis": {
         "colorbar": {
          "title": {
           "text": "TotalCases"
          }
         },
         "colorscale": [
          [
           0,
           "#0d0887"
          ],
          [
           0.1111111111111111,
           "#46039f"
          ],
          [
           0.2222222222222222,
           "#7201a8"
          ],
          [
           0.3333333333333333,
           "#9c179e"
          ],
          [
           0.4444444444444444,
           "#bd3786"
          ],
          [
           0.5555555555555556,
           "#d8576b"
          ],
          [
           0.6666666666666666,
           "#ed7953"
          ],
          [
           0.7777777777777778,
           "#fb9f3a"
          ],
          [
           0.8888888888888888,
           "#fdca26"
          ],
          [
           1,
           "#f0f921"
          ]
         ]
        },
        "height": 500,
        "legend": {
         "tracegroupgap": 0
        },
        "margin": {
         "t": 60
        },
        "template": {
         "data": {
          "bar": [
           {
            "error_x": {
             "color": "#2a3f5f"
            },
            "error_y": {
             "color": "#2a3f5f"
            },
            "marker": {
             "line": {
              "color": "#E5ECF6",
              "width": 0.5
             },
             "pattern": {
              "fillmode": "overlay",
              "size": 10,
              "solidity": 0.2
             }
            },
            "type": "bar"
           }
          ],
          "barpolar": [
           {
            "marker": {
             "line": {
              "color": "#E5ECF6",
              "width": 0.5
             },
             "pattern": {
              "fillmode": "overlay",
              "size": 10,
              "solidity": 0.2
             }
            },
            "type": "barpolar"
           }
          ],
          "carpet": [
           {
            "aaxis": {
             "endlinecolor": "#2a3f5f",
             "gridcolor": "white",
             "linecolor": "white",
             "minorgridcolor": "white",
             "startlinecolor": "#2a3f5f"
            },
            "baxis": {
             "endlinecolor": "#2a3f5f",
             "gridcolor": "white",
             "linecolor": "white",
             "minorgridcolor": "white",
             "startlinecolor": "#2a3f5f"
            },
            "type": "carpet"
           }
          ],
          "choropleth": [
           {
            "colorbar": {
             "outlinewidth": 0,
             "ticks": ""
            },
            "type": "choropleth"
           }
          ],
          "contour": [
           {
            "colorbar": {
             "outlinewidth": 0,
             "ticks": ""
            },
            "colorscale": [
             [
              0,
              "#0d0887"
             ],
             [
              0.1111111111111111,
              "#46039f"
             ],
             [
              0.2222222222222222,
              "#7201a8"
             ],
             [
              0.3333333333333333,
              "#9c179e"
             ],
             [
              0.4444444444444444,
              "#bd3786"
             ],
             [
              0.5555555555555556,
              "#d8576b"
             ],
             [
              0.6666666666666666,
              "#ed7953"
             ],
             [
              0.7777777777777778,
              "#fb9f3a"
             ],
             [
              0.8888888888888888,
              "#fdca26"
             ],
             [
              1,
              "#f0f921"
             ]
            ],
            "type": "contour"
           }
          ],
          "contourcarpet": [
           {
            "colorbar": {
             "outlinewidth": 0,
             "ticks": ""
            },
            "type": "contourcarpet"
           }
          ],
          "heatmap": [
           {
            "colorbar": {
             "outlinewidth": 0,
             "ticks": ""
            },
            "colorscale": [
             [
              0,
              "#0d0887"
             ],
             [
              0.1111111111111111,
              "#46039f"
             ],
             [
              0.2222222222222222,
              "#7201a8"
             ],
             [
              0.3333333333333333,
              "#9c179e"
             ],
             [
              0.4444444444444444,
              "#bd3786"
             ],
             [
              0.5555555555555556,
              "#d8576b"
             ],
             [
              0.6666666666666666,
              "#ed7953"
             ],
             [
              0.7777777777777778,
              "#fb9f3a"
             ],
             [
              0.8888888888888888,
              "#fdca26"
             ],
             [
              1,
              "#f0f921"
             ]
            ],
            "type": "heatmap"
           }
          ],
          "histogram": [
           {
            "marker": {
             "pattern": {
              "fillmode": "overlay",
              "size": 10,
              "solidity": 0.2
             }
            },
            "type": "histogram"
           }
          ],
          "histogram2d": [
           {
            "colorbar": {
             "outlinewidth": 0,
             "ticks": ""
            },
            "colorscale": [
             [
              0,
              "#0d0887"
             ],
             [
              0.1111111111111111,
              "#46039f"
             ],
             [
              0.2222222222222222,
              "#7201a8"
             ],
             [
              0.3333333333333333,
              "#9c179e"
             ],
             [
              0.4444444444444444,
              "#bd3786"
             ],
             [
              0.5555555555555556,
              "#d8576b"
             ],
             [
              0.6666666666666666,
              "#ed7953"
             ],
             [
              0.7777777777777778,
              "#fb9f3a"
             ],
             [
              0.8888888888888888,
              "#fdca26"
             ],
             [
              1,
              "#f0f921"
             ]
            ],
            "type": "histogram2d"
           }
          ],
          "histogram2dcontour": [
           {
            "colorbar": {
             "outlinewidth": 0,
             "ticks": ""
            },
            "colorscale": [
             [
              0,
              "#0d0887"
             ],
             [
              0.1111111111111111,
              "#46039f"
             ],
             [
              0.2222222222222222,
              "#7201a8"
             ],
             [
              0.3333333333333333,
              "#9c179e"
             ],
             [
              0.4444444444444444,
              "#bd3786"
             ],
             [
              0.5555555555555556,
              "#d8576b"
             ],
             [
              0.6666666666666666,
              "#ed7953"
             ],
             [
              0.7777777777777778,
              "#fb9f3a"
             ],
             [
              0.8888888888888888,
              "#fdca26"
             ],
             [
              1,
              "#f0f921"
             ]
            ],
            "type": "histogram2dcontour"
           }
          ],
          "mesh3d": [
           {
            "colorbar": {
             "outlinewidth": 0,
             "ticks": ""
            },
            "type": "mesh3d"
           }
          ],
          "parcoords": [
           {
            "line": {
             "colorbar": {
              "outlinewidth": 0,
              "ticks": ""
             }
            },
            "type": "parcoords"
           }
          ],
          "pie": [
           {
            "automargin": true,
            "type": "pie"
           }
          ],
          "scatter": [
           {
            "fillpattern": {
             "fillmode": "overlay",
             "size": 10,
             "solidity": 0.2
            },
            "type": "scatter"
           }
          ],
          "scatter3d": [
           {
            "line": {
             "colorbar": {
              "outlinewidth": 0,
              "ticks": ""
             }
            },
            "marker": {
             "colorbar": {
              "outlinewidth": 0,
              "ticks": ""
             }
            },
            "type": "scatter3d"
           }
          ],
          "scattercarpet": [
           {
            "marker": {
             "colorbar": {
              "outlinewidth": 0,
              "ticks": ""
             }
            },
            "type": "scattercarpet"
           }
          ],
          "scattergeo": [
           {
            "marker": {
             "colorbar": {
              "outlinewidth": 0,
              "ticks": ""
             }
            },
            "type": "scattergeo"
           }
          ],
          "scattergl": [
           {
            "marker": {
             "colorbar": {
              "outlinewidth": 0,
              "ticks": ""
             }
            },
            "type": "scattergl"
           }
          ],
          "scattermap": [
           {
            "marker": {
             "colorbar": {
              "outlinewidth": 0,
              "ticks": ""
             }
            },
            "type": "scattermap"
           }
          ],
          "scattermapbox": [
           {
            "marker": {
             "colorbar": {
              "outlinewidth": 0,
              "ticks": ""
             }
            },
            "type": "scattermapbox"
           }
          ],
          "scatterpolar": [
           {
            "marker": {
             "colorbar": {
              "outlinewidth": 0,
              "ticks": ""
             }
            },
            "type": "scatterpolar"
           }
          ],
          "scatterpolargl": [
           {
            "marker": {
             "colorbar": {
              "outlinewidth": 0,
              "ticks": ""
             }
            },
            "type": "scatterpolargl"
           }
          ],
          "scatterternary": [
           {
            "marker": {
             "colorbar": {
              "outlinewidth": 0,
              "ticks": ""
             }
            },
            "type": "scatterternary"
           }
          ],
          "surface": [
           {
            "colorbar": {
             "outlinewidth": 0,
             "ticks": ""
            },
            "colorscale": [
             [
              0,
              "#0d0887"
             ],
             [
              0.1111111111111111,
              "#46039f"
             ],
             [
              0.2222222222222222,
              "#7201a8"
             ],
             [
              0.3333333333333333,
              "#9c179e"
             ],
             [
              0.4444444444444444,
              "#bd3786"
             ],
             [
              0.5555555555555556,
              "#d8576b"
             ],
             [
              0.6666666666666666,
              "#ed7953"
             ],
             [
              0.7777777777777778,
              "#fb9f3a"
             ],
             [
              0.8888888888888888,
              "#fdca26"
             ],
             [
              1,
              "#f0f921"
             ]
            ],
            "type": "surface"
           }
          ],
          "table": [
           {
            "cells": {
             "fill": {
              "color": "#EBF0F8"
             },
             "line": {
              "color": "white"
             }
            },
            "header": {
             "fill": {
              "color": "#C8D4E3"
             },
             "line": {
              "color": "white"
             }
            },
            "type": "table"
           }
          ]
         },
         "layout": {
          "annotationdefaults": {
           "arrowcolor": "#2a3f5f",
           "arrowhead": 0,
           "arrowwidth": 1
          },
          "autotypenumbers": "strict",
          "coloraxis": {
           "colorbar": {
            "outlinewidth": 0,
            "ticks": ""
           }
          },
          "colorscale": {
           "diverging": [
            [
             0,
             "#8e0152"
            ],
            [
             0.1,
             "#c51b7d"
            ],
            [
             0.2,
             "#de77ae"
            ],
            [
             0.3,
             "#f1b6da"
            ],
            [
             0.4,
             "#fde0ef"
            ],
            [
             0.5,
             "#f7f7f7"
            ],
            [
             0.6,
             "#e6f5d0"
            ],
            [
             0.7,
             "#b8e186"
            ],
            [
             0.8,
             "#7fbc41"
            ],
            [
             0.9,
             "#4d9221"
            ],
            [
             1,
             "#276419"
            ]
           ],
           "sequential": [
            [
             0,
             "#0d0887"
            ],
            [
             0.1111111111111111,
             "#46039f"
            ],
            [
             0.2222222222222222,
             "#7201a8"
            ],
            [
             0.3333333333333333,
             "#9c179e"
            ],
            [
             0.4444444444444444,
             "#bd3786"
            ],
            [
             0.5555555555555556,
             "#d8576b"
            ],
            [
             0.6666666666666666,
             "#ed7953"
            ],
            [
             0.7777777777777778,
             "#fb9f3a"
            ],
            [
             0.8888888888888888,
             "#fdca26"
            ],
            [
             1,
             "#f0f921"
            ]
           ],
           "sequentialminus": [
            [
             0,
             "#0d0887"
            ],
            [
             0.1111111111111111,
             "#46039f"
            ],
            [
             0.2222222222222222,
             "#7201a8"
            ],
            [
             0.3333333333333333,
             "#9c179e"
            ],
            [
             0.4444444444444444,
             "#bd3786"
            ],
            [
             0.5555555555555556,
             "#d8576b"
            ],
            [
             0.6666666666666666,
             "#ed7953"
            ],
            [
             0.7777777777777778,
             "#fb9f3a"
            ],
            [
             0.8888888888888888,
             "#fdca26"
            ],
            [
             1,
             "#f0f921"
            ]
           ]
          },
          "colorway": [
           "#636efa",
           "#EF553B",
           "#00cc96",
           "#ab63fa",
           "#FFA15A",
           "#19d3f3",
           "#FF6692",
           "#B6E880",
           "#FF97FF",
           "#FECB52"
          ],
          "font": {
           "color": "#2a3f5f"
          },
          "geo": {
           "bgcolor": "white",
           "lakecolor": "white",
           "landcolor": "#E5ECF6",
           "showlakes": true,
           "showland": true,
           "subunitcolor": "white"
          },
          "hoverlabel": {
           "align": "left"
          },
          "hovermode": "closest",
          "mapbox": {
           "style": "light"
          },
          "paper_bgcolor": "white",
          "plot_bgcolor": "#E5ECF6",
          "polar": {
           "angularaxis": {
            "gridcolor": "white",
            "linecolor": "white",
            "ticks": ""
           },
           "bgcolor": "#E5ECF6",
           "radialaxis": {
            "gridcolor": "white",
            "linecolor": "white",
            "ticks": ""
           }
          },
          "scene": {
           "xaxis": {
            "backgroundcolor": "#E5ECF6",
            "gridcolor": "white",
            "gridwidth": 2,
            "linecolor": "white",
            "showbackground": true,
            "ticks": "",
            "zerolinecolor": "white"
           },
           "yaxis": {
            "backgroundcolor": "#E5ECF6",
            "gridcolor": "white",
            "gridwidth": 2,
            "linecolor": "white",
            "showbackground": true,
            "ticks": "",
            "zerolinecolor": "white"
           },
           "zaxis": {
            "backgroundcolor": "#E5ECF6",
            "gridcolor": "white",
            "gridwidth": 2,
            "linecolor": "white",
            "showbackground": true,
            "ticks": "",
            "zerolinecolor": "white"
           }
          },
          "shapedefaults": {
           "line": {
            "color": "#2a3f5f"
           }
          },
          "ternary": {
           "aaxis": {
            "gridcolor": "white",
            "linecolor": "white",
            "ticks": ""
           },
           "baxis": {
            "gridcolor": "white",
            "linecolor": "white",
            "ticks": ""
           },
           "bgcolor": "#E5ECF6",
           "caxis": {
            "gridcolor": "white",
            "linecolor": "white",
            "ticks": ""
           }
          },
          "title": {
           "x": 0.05
          },
          "xaxis": {
           "automargin": true,
           "gridcolor": "white",
           "linecolor": "white",
           "ticks": "",
           "title": {
            "standoff": 15
           },
           "zerolinecolor": "white",
           "zerolinewidth": 2
          },
          "yaxis": {
           "automargin": true,
           "gridcolor": "white",
           "linecolor": "white",
           "ticks": "",
           "title": {
            "standoff": 15
           },
           "zerolinecolor": "white",
           "zerolinewidth": 2
          }
         }
        },
        "xaxis": {
         "anchor": "y",
         "domain": [
          0,
          1
         ],
         "title": {
          "text": "Country/Region"
         }
        },
        "yaxis": {
         "anchor": "x",
         "domain": [
          0,
          1
         ],
         "title": {
          "text": "TotalCases"
         }
        }
       }
      }
     },
     "metadata": {},
     "output_type": "display_data"
    }
   ],
   "source": [
    "px.bar(covid.head(15),x='Country/Region',y='TotalCases',color='TotalCases',height=500,hover_data=['Country/Region','Continent'])"
   ]
  },
  {
   "cell_type": "code",
   "execution_count": 16,
   "id": "d6b9390a",
   "metadata": {},
   "outputs": [
    {
     "data": {
      "application/vnd.plotly.v1+json": {
       "config": {
        "plotlyServerURL": "https://plot.ly"
       },
       "data": [
        {
         "customdata": [
          [
           "North America"
          ],
          [
           "South America"
          ],
          [
           "Asia"
          ],
          [
           "Europe"
          ],
          [
           "Africa"
          ],
          [
           "North America"
          ],
          [
           "South America"
          ],
          [
           "South America"
          ],
          [
           "South America"
          ],
          [
           "Europe"
          ],
          [
           "Asia"
          ],
          [
           "Europe"
          ],
          [
           "Asia"
          ],
          [
           "Asia"
          ],
          [
           "Asia"
          ]
         ],
         "hovertemplate": "Country/Region=%{x}<br>TotalDeaths=%{marker.color}<br>Continent=%{customdata[0]}<extra></extra>",
         "legendgroup": "",
         "marker": {
          "color": {
           "bdata": "AAAAAKDfA0EAAAAAQBX4QAAAAADAVORAAAAAAACHzEAAAAAAAMLCQAAAAACgquhAAAAAAADy00AAAAAAgFDDQAAAAACAUcdAAAAAAADV20AAAAAAAI7RQAAAAACgqeZAAAAAAADep0AAAAAAAJO3QAAAAAAA1KlA",
           "dtype": "f8"
          },
          "coloraxis": "coloraxis",
          "pattern": {
           "shape": ""
          }
         },
         "name": "",
         "orientation": "v",
         "showlegend": false,
         "textposition": "auto",
         "type": "bar",
         "x": [
          "USA",
          "Brazil",
          "India",
          "Russia",
          "South Africa",
          "Mexico",
          "Peru",
          "Chile",
          "Colombia",
          "Spain",
          "Iran",
          "UK",
          "Saudi Arabia",
          "Pakistan",
          "Bangladesh"
         ],
         "xaxis": "x",
         "y": {
          "bdata": "AAAAAKDfA0EAAAAAQBX4QAAAAADAVORAAAAAAACHzEAAAAAAAMLCQAAAAACgquhAAAAAAADy00AAAAAAgFDDQAAAAACAUcdAAAAAAADV20AAAAAAAI7RQAAAAACgqeZAAAAAAADep0AAAAAAAJO3QAAAAAAA1KlA",
          "dtype": "f8"
         },
         "yaxis": "y"
        }
       ],
       "layout": {
        "barmode": "relative",
        "coloraxis": {
         "colorbar": {
          "title": {
           "text": "TotalDeaths"
          }
         },
         "colorscale": [
          [
           0,
           "#0d0887"
          ],
          [
           0.1111111111111111,
           "#46039f"
          ],
          [
           0.2222222222222222,
           "#7201a8"
          ],
          [
           0.3333333333333333,
           "#9c179e"
          ],
          [
           0.4444444444444444,
           "#bd3786"
          ],
          [
           0.5555555555555556,
           "#d8576b"
          ],
          [
           0.6666666666666666,
           "#ed7953"
          ],
          [
           0.7777777777777778,
           "#fb9f3a"
          ],
          [
           0.8888888888888888,
           "#fdca26"
          ],
          [
           1,
           "#f0f921"
          ]
         ]
        },
        "legend": {
         "tracegroupgap": 0
        },
        "margin": {
         "t": 60
        },
        "template": {
         "data": {
          "bar": [
           {
            "error_x": {
             "color": "#2a3f5f"
            },
            "error_y": {
             "color": "#2a3f5f"
            },
            "marker": {
             "line": {
              "color": "#E5ECF6",
              "width": 0.5
             },
             "pattern": {
              "fillmode": "overlay",
              "size": 10,
              "solidity": 0.2
             }
            },
            "type": "bar"
           }
          ],
          "barpolar": [
           {
            "marker": {
             "line": {
              "color": "#E5ECF6",
              "width": 0.5
             },
             "pattern": {
              "fillmode": "overlay",
              "size": 10,
              "solidity": 0.2
             }
            },
            "type": "barpolar"
           }
          ],
          "carpet": [
           {
            "aaxis": {
             "endlinecolor": "#2a3f5f",
             "gridcolor": "white",
             "linecolor": "white",
             "minorgridcolor": "white",
             "startlinecolor": "#2a3f5f"
            },
            "baxis": {
             "endlinecolor": "#2a3f5f",
             "gridcolor": "white",
             "linecolor": "white",
             "minorgridcolor": "white",
             "startlinecolor": "#2a3f5f"
            },
            "type": "carpet"
           }
          ],
          "choropleth": [
           {
            "colorbar": {
             "outlinewidth": 0,
             "ticks": ""
            },
            "type": "choropleth"
           }
          ],
          "contour": [
           {
            "colorbar": {
             "outlinewidth": 0,
             "ticks": ""
            },
            "colorscale": [
             [
              0,
              "#0d0887"
             ],
             [
              0.1111111111111111,
              "#46039f"
             ],
             [
              0.2222222222222222,
              "#7201a8"
             ],
             [
              0.3333333333333333,
              "#9c179e"
             ],
             [
              0.4444444444444444,
              "#bd3786"
             ],
             [
              0.5555555555555556,
              "#d8576b"
             ],
             [
              0.6666666666666666,
              "#ed7953"
             ],
             [
              0.7777777777777778,
              "#fb9f3a"
             ],
             [
              0.8888888888888888,
              "#fdca26"
             ],
             [
              1,
              "#f0f921"
             ]
            ],
            "type": "contour"
           }
          ],
          "contourcarpet": [
           {
            "colorbar": {
             "outlinewidth": 0,
             "ticks": ""
            },
            "type": "contourcarpet"
           }
          ],
          "heatmap": [
           {
            "colorbar": {
             "outlinewidth": 0,
             "ticks": ""
            },
            "colorscale": [
             [
              0,
              "#0d0887"
             ],
             [
              0.1111111111111111,
              "#46039f"
             ],
             [
              0.2222222222222222,
              "#7201a8"
             ],
             [
              0.3333333333333333,
              "#9c179e"
             ],
             [
              0.4444444444444444,
              "#bd3786"
             ],
             [
              0.5555555555555556,
              "#d8576b"
             ],
             [
              0.6666666666666666,
              "#ed7953"
             ],
             [
              0.7777777777777778,
              "#fb9f3a"
             ],
             [
              0.8888888888888888,
              "#fdca26"
             ],
             [
              1,
              "#f0f921"
             ]
            ],
            "type": "heatmap"
           }
          ],
          "histogram": [
           {
            "marker": {
             "pattern": {
              "fillmode": "overlay",
              "size": 10,
              "solidity": 0.2
             }
            },
            "type": "histogram"
           }
          ],
          "histogram2d": [
           {
            "colorbar": {
             "outlinewidth": 0,
             "ticks": ""
            },
            "colorscale": [
             [
              0,
              "#0d0887"
             ],
             [
              0.1111111111111111,
              "#46039f"
             ],
             [
              0.2222222222222222,
              "#7201a8"
             ],
             [
              0.3333333333333333,
              "#9c179e"
             ],
             [
              0.4444444444444444,
              "#bd3786"
             ],
             [
              0.5555555555555556,
              "#d8576b"
             ],
             [
              0.6666666666666666,
              "#ed7953"
             ],
             [
              0.7777777777777778,
              "#fb9f3a"
             ],
             [
              0.8888888888888888,
              "#fdca26"
             ],
             [
              1,
              "#f0f921"
             ]
            ],
            "type": "histogram2d"
           }
          ],
          "histogram2dcontour": [
           {
            "colorbar": {
             "outlinewidth": 0,
             "ticks": ""
            },
            "colorscale": [
             [
              0,
              "#0d0887"
             ],
             [
              0.1111111111111111,
              "#46039f"
             ],
             [
              0.2222222222222222,
              "#7201a8"
             ],
             [
              0.3333333333333333,
              "#9c179e"
             ],
             [
              0.4444444444444444,
              "#bd3786"
             ],
             [
              0.5555555555555556,
              "#d8576b"
             ],
             [
              0.6666666666666666,
              "#ed7953"
             ],
             [
              0.7777777777777778,
              "#fb9f3a"
             ],
             [
              0.8888888888888888,
              "#fdca26"
             ],
             [
              1,
              "#f0f921"
             ]
            ],
            "type": "histogram2dcontour"
           }
          ],
          "mesh3d": [
           {
            "colorbar": {
             "outlinewidth": 0,
             "ticks": ""
            },
            "type": "mesh3d"
           }
          ],
          "parcoords": [
           {
            "line": {
             "colorbar": {
              "outlinewidth": 0,
              "ticks": ""
             }
            },
            "type": "parcoords"
           }
          ],
          "pie": [
           {
            "automargin": true,
            "type": "pie"
           }
          ],
          "scatter": [
           {
            "fillpattern": {
             "fillmode": "overlay",
             "size": 10,
             "solidity": 0.2
            },
            "type": "scatter"
           }
          ],
          "scatter3d": [
           {
            "line": {
             "colorbar": {
              "outlinewidth": 0,
              "ticks": ""
             }
            },
            "marker": {
             "colorbar": {
              "outlinewidth": 0,
              "ticks": ""
             }
            },
            "type": "scatter3d"
           }
          ],
          "scattercarpet": [
           {
            "marker": {
             "colorbar": {
              "outlinewidth": 0,
              "ticks": ""
             }
            },
            "type": "scattercarpet"
           }
          ],
          "scattergeo": [
           {
            "marker": {
             "colorbar": {
              "outlinewidth": 0,
              "ticks": ""
             }
            },
            "type": "scattergeo"
           }
          ],
          "scattergl": [
           {
            "marker": {
             "colorbar": {
              "outlinewidth": 0,
              "ticks": ""
             }
            },
            "type": "scattergl"
           }
          ],
          "scattermap": [
           {
            "marker": {
             "colorbar": {
              "outlinewidth": 0,
              "ticks": ""
             }
            },
            "type": "scattermap"
           }
          ],
          "scattermapbox": [
           {
            "marker": {
             "colorbar": {
              "outlinewidth": 0,
              "ticks": ""
             }
            },
            "type": "scattermapbox"
           }
          ],
          "scatterpolar": [
           {
            "marker": {
             "colorbar": {
              "outlinewidth": 0,
              "ticks": ""
             }
            },
            "type": "scatterpolar"
           }
          ],
          "scatterpolargl": [
           {
            "marker": {
             "colorbar": {
              "outlinewidth": 0,
              "ticks": ""
             }
            },
            "type": "scatterpolargl"
           }
          ],
          "scatterternary": [
           {
            "marker": {
             "colorbar": {
              "outlinewidth": 0,
              "ticks": ""
             }
            },
            "type": "scatterternary"
           }
          ],
          "surface": [
           {
            "colorbar": {
             "outlinewidth": 0,
             "ticks": ""
            },
            "colorscale": [
             [
              0,
              "#0d0887"
             ],
             [
              0.1111111111111111,
              "#46039f"
             ],
             [
              0.2222222222222222,
              "#7201a8"
             ],
             [
              0.3333333333333333,
              "#9c179e"
             ],
             [
              0.4444444444444444,
              "#bd3786"
             ],
             [
              0.5555555555555556,
              "#d8576b"
             ],
             [
              0.6666666666666666,
              "#ed7953"
             ],
             [
              0.7777777777777778,
              "#fb9f3a"
             ],
             [
              0.8888888888888888,
              "#fdca26"
             ],
             [
              1,
              "#f0f921"
             ]
            ],
            "type": "surface"
           }
          ],
          "table": [
           {
            "cells": {
             "fill": {
              "color": "#EBF0F8"
             },
             "line": {
              "color": "white"
             }
            },
            "header": {
             "fill": {
              "color": "#C8D4E3"
             },
             "line": {
              "color": "white"
             }
            },
            "type": "table"
           }
          ]
         },
         "layout": {
          "annotationdefaults": {
           "arrowcolor": "#2a3f5f",
           "arrowhead": 0,
           "arrowwidth": 1
          },
          "autotypenumbers": "strict",
          "coloraxis": {
           "colorbar": {
            "outlinewidth": 0,
            "ticks": ""
           }
          },
          "colorscale": {
           "diverging": [
            [
             0,
             "#8e0152"
            ],
            [
             0.1,
             "#c51b7d"
            ],
            [
             0.2,
             "#de77ae"
            ],
            [
             0.3,
             "#f1b6da"
            ],
            [
             0.4,
             "#fde0ef"
            ],
            [
             0.5,
             "#f7f7f7"
            ],
            [
             0.6,
             "#e6f5d0"
            ],
            [
             0.7,
             "#b8e186"
            ],
            [
             0.8,
             "#7fbc41"
            ],
            [
             0.9,
             "#4d9221"
            ],
            [
             1,
             "#276419"
            ]
           ],
           "sequential": [
            [
             0,
             "#0d0887"
            ],
            [
             0.1111111111111111,
             "#46039f"
            ],
            [
             0.2222222222222222,
             "#7201a8"
            ],
            [
             0.3333333333333333,
             "#9c179e"
            ],
            [
             0.4444444444444444,
             "#bd3786"
            ],
            [
             0.5555555555555556,
             "#d8576b"
            ],
            [
             0.6666666666666666,
             "#ed7953"
            ],
            [
             0.7777777777777778,
             "#fb9f3a"
            ],
            [
             0.8888888888888888,
             "#fdca26"
            ],
            [
             1,
             "#f0f921"
            ]
           ],
           "sequentialminus": [
            [
             0,
             "#0d0887"
            ],
            [
             0.1111111111111111,
             "#46039f"
            ],
            [
             0.2222222222222222,
             "#7201a8"
            ],
            [
             0.3333333333333333,
             "#9c179e"
            ],
            [
             0.4444444444444444,
             "#bd3786"
            ],
            [
             0.5555555555555556,
             "#d8576b"
            ],
            [
             0.6666666666666666,
             "#ed7953"
            ],
            [
             0.7777777777777778,
             "#fb9f3a"
            ],
            [
             0.8888888888888888,
             "#fdca26"
            ],
            [
             1,
             "#f0f921"
            ]
           ]
          },
          "colorway": [
           "#636efa",
           "#EF553B",
           "#00cc96",
           "#ab63fa",
           "#FFA15A",
           "#19d3f3",
           "#FF6692",
           "#B6E880",
           "#FF97FF",
           "#FECB52"
          ],
          "font": {
           "color": "#2a3f5f"
          },
          "geo": {
           "bgcolor": "white",
           "lakecolor": "white",
           "landcolor": "#E5ECF6",
           "showlakes": true,
           "showland": true,
           "subunitcolor": "white"
          },
          "hoverlabel": {
           "align": "left"
          },
          "hovermode": "closest",
          "mapbox": {
           "style": "light"
          },
          "paper_bgcolor": "white",
          "plot_bgcolor": "#E5ECF6",
          "polar": {
           "angularaxis": {
            "gridcolor": "white",
            "linecolor": "white",
            "ticks": ""
           },
           "bgcolor": "#E5ECF6",
           "radialaxis": {
            "gridcolor": "white",
            "linecolor": "white",
            "ticks": ""
           }
          },
          "scene": {
           "xaxis": {
            "backgroundcolor": "#E5ECF6",
            "gridcolor": "white",
            "gridwidth": 2,
            "linecolor": "white",
            "showbackground": true,
            "ticks": "",
            "zerolinecolor": "white"
           },
           "yaxis": {
            "backgroundcolor": "#E5ECF6",
            "gridcolor": "white",
            "gridwidth": 2,
            "linecolor": "white",
            "showbackground": true,
            "ticks": "",
            "zerolinecolor": "white"
           },
           "zaxis": {
            "backgroundcolor": "#E5ECF6",
            "gridcolor": "white",
            "gridwidth": 2,
            "linecolor": "white",
            "showbackground": true,
            "ticks": "",
            "zerolinecolor": "white"
           }
          },
          "shapedefaults": {
           "line": {
            "color": "#2a3f5f"
           }
          },
          "ternary": {
           "aaxis": {
            "gridcolor": "white",
            "linecolor": "white",
            "ticks": ""
           },
           "baxis": {
            "gridcolor": "white",
            "linecolor": "white",
            "ticks": ""
           },
           "bgcolor": "#E5ECF6",
           "caxis": {
            "gridcolor": "white",
            "linecolor": "white",
            "ticks": ""
           }
          },
          "title": {
           "x": 0.05
          },
          "xaxis": {
           "automargin": true,
           "gridcolor": "white",
           "linecolor": "white",
           "ticks": "",
           "title": {
            "standoff": 15
           },
           "zerolinecolor": "white",
           "zerolinewidth": 2
          },
          "yaxis": {
           "automargin": true,
           "gridcolor": "white",
           "linecolor": "white",
           "ticks": "",
           "title": {
            "standoff": 15
           },
           "zerolinecolor": "white",
           "zerolinewidth": 2
          }
         }
        },
        "xaxis": {
         "anchor": "y",
         "domain": [
          0,
          1
         ],
         "title": {
          "text": "Country/Region"
         }
        },
        "yaxis": {
         "anchor": "x",
         "domain": [
          0,
          1
         ],
         "title": {
          "text": "TotalDeaths"
         }
        }
       }
      }
     },
     "metadata": {},
     "output_type": "display_data"
    }
   ],
   "source": [
    "px.bar(covid.head(15),x='Country/Region',y='TotalDeaths',hover_data=['Continent','Country/Region'],color='TotalDeaths')"
   ]
  },
  {
   "cell_type": "code",
   "execution_count": 17,
   "id": "961c0434",
   "metadata": {},
   "outputs": [
    {
     "data": {
      "application/vnd.plotly.v1+json": {
       "config": {
        "plotlyServerURL": "https://plot.ly"
       },
       "data": [
        {
         "customdata": [
          [
           "North America"
          ],
          [
           "South America"
          ],
          [
           "Asia"
          ],
          [
           "Europe"
          ],
          [
           "Africa"
          ],
          [
           "North America"
          ],
          [
           "South America"
          ],
          [
           "South America"
          ],
          [
           "South America"
          ],
          [
           "Europe"
          ]
         ],
         "hovertemplate": "Country/Region=%{x}<br>TotalRecovered=%{marker.color}<br>Continent=%{customdata[0]}<extra></extra>",
         "legendgroup": "",
         "marker": {
          "color": {
           "bdata": "AAAAAI6oQ0EAAAAArD4/QQAAAABoBDVBAAAAAAqkJEEAAAAA0KMXQQAAAADA2RJBAAAAAATxEkEAAAAAIMMUQQAAAAAYewdBAAAAAAAA+H8=",
           "dtype": "f8"
          },
          "coloraxis": "coloraxis",
          "pattern": {
           "shape": ""
          }
         },
         "name": "",
         "orientation": "v",
         "showlegend": false,
         "textposition": "auto",
         "type": "bar",
         "x": [
          "USA",
          "Brazil",
          "India",
          "Russia",
          "South Africa",
          "Mexico",
          "Peru",
          "Chile",
          "Colombia",
          "Spain"
         ],
         "xaxis": "x",
         "y": {
          "bdata": "AAAAAI6oQ0EAAAAArD4/QQAAAABoBDVBAAAAAAqkJEEAAAAA0KMXQQAAAADA2RJBAAAAAATxEkEAAAAAIMMUQQAAAAAYewdBAAAAAAAA+H8=",
          "dtype": "f8"
         },
         "yaxis": "y"
        }
       ],
       "layout": {
        "barmode": "relative",
        "coloraxis": {
         "colorbar": {
          "title": {
           "text": "TotalRecovered"
          }
         },
         "colorscale": [
          [
           0,
           "#0d0887"
          ],
          [
           0.1111111111111111,
           "#46039f"
          ],
          [
           0.2222222222222222,
           "#7201a8"
          ],
          [
           0.3333333333333333,
           "#9c179e"
          ],
          [
           0.4444444444444444,
           "#bd3786"
          ],
          [
           0.5555555555555556,
           "#d8576b"
          ],
          [
           0.6666666666666666,
           "#ed7953"
          ],
          [
           0.7777777777777778,
           "#fb9f3a"
          ],
          [
           0.8888888888888888,
           "#fdca26"
          ],
          [
           1,
           "#f0f921"
          ]
         ]
        },
        "height": 500,
        "legend": {
         "tracegroupgap": 0
        },
        "margin": {
         "t": 60
        },
        "template": {
         "data": {
          "bar": [
           {
            "error_x": {
             "color": "#2a3f5f"
            },
            "error_y": {
             "color": "#2a3f5f"
            },
            "marker": {
             "line": {
              "color": "#E5ECF6",
              "width": 0.5
             },
             "pattern": {
              "fillmode": "overlay",
              "size": 10,
              "solidity": 0.2
             }
            },
            "type": "bar"
           }
          ],
          "barpolar": [
           {
            "marker": {
             "line": {
              "color": "#E5ECF6",
              "width": 0.5
             },
             "pattern": {
              "fillmode": "overlay",
              "size": 10,
              "solidity": 0.2
             }
            },
            "type": "barpolar"
           }
          ],
          "carpet": [
           {
            "aaxis": {
             "endlinecolor": "#2a3f5f",
             "gridcolor": "white",
             "linecolor": "white",
             "minorgridcolor": "white",
             "startlinecolor": "#2a3f5f"
            },
            "baxis": {
             "endlinecolor": "#2a3f5f",
             "gridcolor": "white",
             "linecolor": "white",
             "minorgridcolor": "white",
             "startlinecolor": "#2a3f5f"
            },
            "type": "carpet"
           }
          ],
          "choropleth": [
           {
            "colorbar": {
             "outlinewidth": 0,
             "ticks": ""
            },
            "type": "choropleth"
           }
          ],
          "contour": [
           {
            "colorbar": {
             "outlinewidth": 0,
             "ticks": ""
            },
            "colorscale": [
             [
              0,
              "#0d0887"
             ],
             [
              0.1111111111111111,
              "#46039f"
             ],
             [
              0.2222222222222222,
              "#7201a8"
             ],
             [
              0.3333333333333333,
              "#9c179e"
             ],
             [
              0.4444444444444444,
              "#bd3786"
             ],
             [
              0.5555555555555556,
              "#d8576b"
             ],
             [
              0.6666666666666666,
              "#ed7953"
             ],
             [
              0.7777777777777778,
              "#fb9f3a"
             ],
             [
              0.8888888888888888,
              "#fdca26"
             ],
             [
              1,
              "#f0f921"
             ]
            ],
            "type": "contour"
           }
          ],
          "contourcarpet": [
           {
            "colorbar": {
             "outlinewidth": 0,
             "ticks": ""
            },
            "type": "contourcarpet"
           }
          ],
          "heatmap": [
           {
            "colorbar": {
             "outlinewidth": 0,
             "ticks": ""
            },
            "colorscale": [
             [
              0,
              "#0d0887"
             ],
             [
              0.1111111111111111,
              "#46039f"
             ],
             [
              0.2222222222222222,
              "#7201a8"
             ],
             [
              0.3333333333333333,
              "#9c179e"
             ],
             [
              0.4444444444444444,
              "#bd3786"
             ],
             [
              0.5555555555555556,
              "#d8576b"
             ],
             [
              0.6666666666666666,
              "#ed7953"
             ],
             [
              0.7777777777777778,
              "#fb9f3a"
             ],
             [
              0.8888888888888888,
              "#fdca26"
             ],
             [
              1,
              "#f0f921"
             ]
            ],
            "type": "heatmap"
           }
          ],
          "histogram": [
           {
            "marker": {
             "pattern": {
              "fillmode": "overlay",
              "size": 10,
              "solidity": 0.2
             }
            },
            "type": "histogram"
           }
          ],
          "histogram2d": [
           {
            "colorbar": {
             "outlinewidth": 0,
             "ticks": ""
            },
            "colorscale": [
             [
              0,
              "#0d0887"
             ],
             [
              0.1111111111111111,
              "#46039f"
             ],
             [
              0.2222222222222222,
              "#7201a8"
             ],
             [
              0.3333333333333333,
              "#9c179e"
             ],
             [
              0.4444444444444444,
              "#bd3786"
             ],
             [
              0.5555555555555556,
              "#d8576b"
             ],
             [
              0.6666666666666666,
              "#ed7953"
             ],
             [
              0.7777777777777778,
              "#fb9f3a"
             ],
             [
              0.8888888888888888,
              "#fdca26"
             ],
             [
              1,
              "#f0f921"
             ]
            ],
            "type": "histogram2d"
           }
          ],
          "histogram2dcontour": [
           {
            "colorbar": {
             "outlinewidth": 0,
             "ticks": ""
            },
            "colorscale": [
             [
              0,
              "#0d0887"
             ],
             [
              0.1111111111111111,
              "#46039f"
             ],
             [
              0.2222222222222222,
              "#7201a8"
             ],
             [
              0.3333333333333333,
              "#9c179e"
             ],
             [
              0.4444444444444444,
              "#bd3786"
             ],
             [
              0.5555555555555556,
              "#d8576b"
             ],
             [
              0.6666666666666666,
              "#ed7953"
             ],
             [
              0.7777777777777778,
              "#fb9f3a"
             ],
             [
              0.8888888888888888,
              "#fdca26"
             ],
             [
              1,
              "#f0f921"
             ]
            ],
            "type": "histogram2dcontour"
           }
          ],
          "mesh3d": [
           {
            "colorbar": {
             "outlinewidth": 0,
             "ticks": ""
            },
            "type": "mesh3d"
           }
          ],
          "parcoords": [
           {
            "line": {
             "colorbar": {
              "outlinewidth": 0,
              "ticks": ""
             }
            },
            "type": "parcoords"
           }
          ],
          "pie": [
           {
            "automargin": true,
            "type": "pie"
           }
          ],
          "scatter": [
           {
            "fillpattern": {
             "fillmode": "overlay",
             "size": 10,
             "solidity": 0.2
            },
            "type": "scatter"
           }
          ],
          "scatter3d": [
           {
            "line": {
             "colorbar": {
              "outlinewidth": 0,
              "ticks": ""
             }
            },
            "marker": {
             "colorbar": {
              "outlinewidth": 0,
              "ticks": ""
             }
            },
            "type": "scatter3d"
           }
          ],
          "scattercarpet": [
           {
            "marker": {
             "colorbar": {
              "outlinewidth": 0,
              "ticks": ""
             }
            },
            "type": "scattercarpet"
           }
          ],
          "scattergeo": [
           {
            "marker": {
             "colorbar": {
              "outlinewidth": 0,
              "ticks": ""
             }
            },
            "type": "scattergeo"
           }
          ],
          "scattergl": [
           {
            "marker": {
             "colorbar": {
              "outlinewidth": 0,
              "ticks": ""
             }
            },
            "type": "scattergl"
           }
          ],
          "scattermap": [
           {
            "marker": {
             "colorbar": {
              "outlinewidth": 0,
              "ticks": ""
             }
            },
            "type": "scattermap"
           }
          ],
          "scattermapbox": [
           {
            "marker": {
             "colorbar": {
              "outlinewidth": 0,
              "ticks": ""
             }
            },
            "type": "scattermapbox"
           }
          ],
          "scatterpolar": [
           {
            "marker": {
             "colorbar": {
              "outlinewidth": 0,
              "ticks": ""
             }
            },
            "type": "scatterpolar"
           }
          ],
          "scatterpolargl": [
           {
            "marker": {
             "colorbar": {
              "outlinewidth": 0,
              "ticks": ""
             }
            },
            "type": "scatterpolargl"
           }
          ],
          "scatterternary": [
           {
            "marker": {
             "colorbar": {
              "outlinewidth": 0,
              "ticks": ""
             }
            },
            "type": "scatterternary"
           }
          ],
          "surface": [
           {
            "colorbar": {
             "outlinewidth": 0,
             "ticks": ""
            },
            "colorscale": [
             [
              0,
              "#0d0887"
             ],
             [
              0.1111111111111111,
              "#46039f"
             ],
             [
              0.2222222222222222,
              "#7201a8"
             ],
             [
              0.3333333333333333,
              "#9c179e"
             ],
             [
              0.4444444444444444,
              "#bd3786"
             ],
             [
              0.5555555555555556,
              "#d8576b"
             ],
             [
              0.6666666666666666,
              "#ed7953"
             ],
             [
              0.7777777777777778,
              "#fb9f3a"
             ],
             [
              0.8888888888888888,
              "#fdca26"
             ],
             [
              1,
              "#f0f921"
             ]
            ],
            "type": "surface"
           }
          ],
          "table": [
           {
            "cells": {
             "fill": {
              "color": "#EBF0F8"
             },
             "line": {
              "color": "white"
             }
            },
            "header": {
             "fill": {
              "color": "#C8D4E3"
             },
             "line": {
              "color": "white"
             }
            },
            "type": "table"
           }
          ]
         },
         "layout": {
          "annotationdefaults": {
           "arrowcolor": "#2a3f5f",
           "arrowhead": 0,
           "arrowwidth": 1
          },
          "autotypenumbers": "strict",
          "coloraxis": {
           "colorbar": {
            "outlinewidth": 0,
            "ticks": ""
           }
          },
          "colorscale": {
           "diverging": [
            [
             0,
             "#8e0152"
            ],
            [
             0.1,
             "#c51b7d"
            ],
            [
             0.2,
             "#de77ae"
            ],
            [
             0.3,
             "#f1b6da"
            ],
            [
             0.4,
             "#fde0ef"
            ],
            [
             0.5,
             "#f7f7f7"
            ],
            [
             0.6,
             "#e6f5d0"
            ],
            [
             0.7,
             "#b8e186"
            ],
            [
             0.8,
             "#7fbc41"
            ],
            [
             0.9,
             "#4d9221"
            ],
            [
             1,
             "#276419"
            ]
           ],
           "sequential": [
            [
             0,
             "#0d0887"
            ],
            [
             0.1111111111111111,
             "#46039f"
            ],
            [
             0.2222222222222222,
             "#7201a8"
            ],
            [
             0.3333333333333333,
             "#9c179e"
            ],
            [
             0.4444444444444444,
             "#bd3786"
            ],
            [
             0.5555555555555556,
             "#d8576b"
            ],
            [
             0.6666666666666666,
             "#ed7953"
            ],
            [
             0.7777777777777778,
             "#fb9f3a"
            ],
            [
             0.8888888888888888,
             "#fdca26"
            ],
            [
             1,
             "#f0f921"
            ]
           ],
           "sequentialminus": [
            [
             0,
             "#0d0887"
            ],
            [
             0.1111111111111111,
             "#46039f"
            ],
            [
             0.2222222222222222,
             "#7201a8"
            ],
            [
             0.3333333333333333,
             "#9c179e"
            ],
            [
             0.4444444444444444,
             "#bd3786"
            ],
            [
             0.5555555555555556,
             "#d8576b"
            ],
            [
             0.6666666666666666,
             "#ed7953"
            ],
            [
             0.7777777777777778,
             "#fb9f3a"
            ],
            [
             0.8888888888888888,
             "#fdca26"
            ],
            [
             1,
             "#f0f921"
            ]
           ]
          },
          "colorway": [
           "#636efa",
           "#EF553B",
           "#00cc96",
           "#ab63fa",
           "#FFA15A",
           "#19d3f3",
           "#FF6692",
           "#B6E880",
           "#FF97FF",
           "#FECB52"
          ],
          "font": {
           "color": "#2a3f5f"
          },
          "geo": {
           "bgcolor": "white",
           "lakecolor": "white",
           "landcolor": "#E5ECF6",
           "showlakes": true,
           "showland": true,
           "subunitcolor": "white"
          },
          "hoverlabel": {
           "align": "left"
          },
          "hovermode": "closest",
          "mapbox": {
           "style": "light"
          },
          "paper_bgcolor": "white",
          "plot_bgcolor": "#E5ECF6",
          "polar": {
           "angularaxis": {
            "gridcolor": "white",
            "linecolor": "white",
            "ticks": ""
           },
           "bgcolor": "#E5ECF6",
           "radialaxis": {
            "gridcolor": "white",
            "linecolor": "white",
            "ticks": ""
           }
          },
          "scene": {
           "xaxis": {
            "backgroundcolor": "#E5ECF6",
            "gridcolor": "white",
            "gridwidth": 2,
            "linecolor": "white",
            "showbackground": true,
            "ticks": "",
            "zerolinecolor": "white"
           },
           "yaxis": {
            "backgroundcolor": "#E5ECF6",
            "gridcolor": "white",
            "gridwidth": 2,
            "linecolor": "white",
            "showbackground": true,
            "ticks": "",
            "zerolinecolor": "white"
           },
           "zaxis": {
            "backgroundcolor": "#E5ECF6",
            "gridcolor": "white",
            "gridwidth": 2,
            "linecolor": "white",
            "showbackground": true,
            "ticks": "",
            "zerolinecolor": "white"
           }
          },
          "shapedefaults": {
           "line": {
            "color": "#2a3f5f"
           }
          },
          "ternary": {
           "aaxis": {
            "gridcolor": "white",
            "linecolor": "white",
            "ticks": ""
           },
           "baxis": {
            "gridcolor": "white",
            "linecolor": "white",
            "ticks": ""
           },
           "bgcolor": "#E5ECF6",
           "caxis": {
            "gridcolor": "white",
            "linecolor": "white",
            "ticks": ""
           }
          },
          "title": {
           "x": 0.05
          },
          "xaxis": {
           "automargin": true,
           "gridcolor": "white",
           "linecolor": "white",
           "ticks": "",
           "title": {
            "standoff": 15
           },
           "zerolinecolor": "white",
           "zerolinewidth": 2
          },
          "yaxis": {
           "automargin": true,
           "gridcolor": "white",
           "linecolor": "white",
           "ticks": "",
           "title": {
            "standoff": 15
           },
           "zerolinecolor": "white",
           "zerolinewidth": 2
          }
         }
        },
        "xaxis": {
         "anchor": "y",
         "domain": [
          0,
          1
         ],
         "title": {
          "text": "Country/Region"
         }
        },
        "yaxis": {
         "anchor": "x",
         "domain": [
          0,
          1
         ],
         "title": {
          "text": "TotalRecovered"
         }
        }
       }
      }
     },
     "metadata": {},
     "output_type": "display_data"
    }
   ],
   "source": [
    "px.bar(covid.head(10),x='Country/Region',y='TotalRecovered',hover_data=['Country/Region','Continent'],color='TotalRecovered',height=500)"
   ]
  },
  {
   "cell_type": "code",
   "execution_count": 18,
   "id": "3d03c008",
   "metadata": {},
   "outputs": [
    {
     "data": {
      "application/vnd.plotly.v1+json": {
       "config": {
        "plotlyServerURL": "https://plot.ly"
       },
       "data": [
        {
         "customdata": [
          [
           "North America"
          ],
          [
           "South America"
          ],
          [
           "Asia"
          ],
          [
           "Europe"
          ],
          [
           "Africa"
          ],
          [
           "North America"
          ],
          [
           "South America"
          ],
          [
           "South America"
          ],
          [
           "South America"
          ],
          [
           "Europe"
          ],
          [
           "Asia"
          ],
          [
           "Europe"
          ],
          [
           "Asia"
          ],
          [
           "Asia"
          ],
          [
           "Asia"
          ]
         ],
         "hovertemplate": "Country/Region=%{x}<br>ActiveCases=%{marker.color}<br>Continent=%{customdata[0]}<extra></extra>",
         "legendgroup": "",
         "marker": {
          "color": {
           "bdata": "AAAAgPF9QUEAAAAAdIknQQAAAABmgSJBAAAAABgWBkEAAAAAgD4BQQAAAADQOflAAAAAAIBu/kAAAAAAgDnQQAAAAABAugJBAAAAAAAA+H8AAAAAgBnYQAAAAAAAAPh/AAAAAECk4EAAAAAAgE7TQAAAAACQB/lA",
           "dtype": "f8"
          },
          "coloraxis": "coloraxis",
          "pattern": {
           "shape": ""
          }
         },
         "name": "",
         "orientation": "v",
         "showlegend": false,
         "textposition": "auto",
         "type": "bar",
         "x": [
          "USA",
          "Brazil",
          "India",
          "Russia",
          "South Africa",
          "Mexico",
          "Peru",
          "Chile",
          "Colombia",
          "Spain",
          "Iran",
          "UK",
          "Saudi Arabia",
          "Pakistan",
          "Bangladesh"
         ],
         "xaxis": "x",
         "y": {
          "bdata": "AAAAgPF9QUEAAAAAdIknQQAAAABmgSJBAAAAABgWBkEAAAAAgD4BQQAAAADQOflAAAAAAIBu/kAAAAAAgDnQQAAAAABAugJBAAAAAAAA+H8AAAAAgBnYQAAAAAAAAPh/AAAAAECk4EAAAAAAgE7TQAAAAACQB/lA",
          "dtype": "f8"
         },
         "yaxis": "y"
        }
       ],
       "layout": {
        "barmode": "relative",
        "coloraxis": {
         "colorbar": {
          "title": {
           "text": "ActiveCases"
          }
         },
         "colorscale": [
          [
           0,
           "#0d0887"
          ],
          [
           0.1111111111111111,
           "#46039f"
          ],
          [
           0.2222222222222222,
           "#7201a8"
          ],
          [
           0.3333333333333333,
           "#9c179e"
          ],
          [
           0.4444444444444444,
           "#bd3786"
          ],
          [
           0.5555555555555556,
           "#d8576b"
          ],
          [
           0.6666666666666666,
           "#ed7953"
          ],
          [
           0.7777777777777778,
           "#fb9f3a"
          ],
          [
           0.8888888888888888,
           "#fdca26"
          ],
          [
           1,
           "#f0f921"
          ]
         ]
        },
        "height": 500,
        "legend": {
         "tracegroupgap": 0
        },
        "margin": {
         "t": 60
        },
        "template": {
         "data": {
          "bar": [
           {
            "error_x": {
             "color": "#2a3f5f"
            },
            "error_y": {
             "color": "#2a3f5f"
            },
            "marker": {
             "line": {
              "color": "#E5ECF6",
              "width": 0.5
             },
             "pattern": {
              "fillmode": "overlay",
              "size": 10,
              "solidity": 0.2
             }
            },
            "type": "bar"
           }
          ],
          "barpolar": [
           {
            "marker": {
             "line": {
              "color": "#E5ECF6",
              "width": 0.5
             },
             "pattern": {
              "fillmode": "overlay",
              "size": 10,
              "solidity": 0.2
             }
            },
            "type": "barpolar"
           }
          ],
          "carpet": [
           {
            "aaxis": {
             "endlinecolor": "#2a3f5f",
             "gridcolor": "white",
             "linecolor": "white",
             "minorgridcolor": "white",
             "startlinecolor": "#2a3f5f"
            },
            "baxis": {
             "endlinecolor": "#2a3f5f",
             "gridcolor": "white",
             "linecolor": "white",
             "minorgridcolor": "white",
             "startlinecolor": "#2a3f5f"
            },
            "type": "carpet"
           }
          ],
          "choropleth": [
           {
            "colorbar": {
             "outlinewidth": 0,
             "ticks": ""
            },
            "type": "choropleth"
           }
          ],
          "contour": [
           {
            "colorbar": {
             "outlinewidth": 0,
             "ticks": ""
            },
            "colorscale": [
             [
              0,
              "#0d0887"
             ],
             [
              0.1111111111111111,
              "#46039f"
             ],
             [
              0.2222222222222222,
              "#7201a8"
             ],
             [
              0.3333333333333333,
              "#9c179e"
             ],
             [
              0.4444444444444444,
              "#bd3786"
             ],
             [
              0.5555555555555556,
              "#d8576b"
             ],
             [
              0.6666666666666666,
              "#ed7953"
             ],
             [
              0.7777777777777778,
              "#fb9f3a"
             ],
             [
              0.8888888888888888,
              "#fdca26"
             ],
             [
              1,
              "#f0f921"
             ]
            ],
            "type": "contour"
           }
          ],
          "contourcarpet": [
           {
            "colorbar": {
             "outlinewidth": 0,
             "ticks": ""
            },
            "type": "contourcarpet"
           }
          ],
          "heatmap": [
           {
            "colorbar": {
             "outlinewidth": 0,
             "ticks": ""
            },
            "colorscale": [
             [
              0,
              "#0d0887"
             ],
             [
              0.1111111111111111,
              "#46039f"
             ],
             [
              0.2222222222222222,
              "#7201a8"
             ],
             [
              0.3333333333333333,
              "#9c179e"
             ],
             [
              0.4444444444444444,
              "#bd3786"
             ],
             [
              0.5555555555555556,
              "#d8576b"
             ],
             [
              0.6666666666666666,
              "#ed7953"
             ],
             [
              0.7777777777777778,
              "#fb9f3a"
             ],
             [
              0.8888888888888888,
              "#fdca26"
             ],
             [
              1,
              "#f0f921"
             ]
            ],
            "type": "heatmap"
           }
          ],
          "histogram": [
           {
            "marker": {
             "pattern": {
              "fillmode": "overlay",
              "size": 10,
              "solidity": 0.2
             }
            },
            "type": "histogram"
           }
          ],
          "histogram2d": [
           {
            "colorbar": {
             "outlinewidth": 0,
             "ticks": ""
            },
            "colorscale": [
             [
              0,
              "#0d0887"
             ],
             [
              0.1111111111111111,
              "#46039f"
             ],
             [
              0.2222222222222222,
              "#7201a8"
             ],
             [
              0.3333333333333333,
              "#9c179e"
             ],
             [
              0.4444444444444444,
              "#bd3786"
             ],
             [
              0.5555555555555556,
              "#d8576b"
             ],
             [
              0.6666666666666666,
              "#ed7953"
             ],
             [
              0.7777777777777778,
              "#fb9f3a"
             ],
             [
              0.8888888888888888,
              "#fdca26"
             ],
             [
              1,
              "#f0f921"
             ]
            ],
            "type": "histogram2d"
           }
          ],
          "histogram2dcontour": [
           {
            "colorbar": {
             "outlinewidth": 0,
             "ticks": ""
            },
            "colorscale": [
             [
              0,
              "#0d0887"
             ],
             [
              0.1111111111111111,
              "#46039f"
             ],
             [
              0.2222222222222222,
              "#7201a8"
             ],
             [
              0.3333333333333333,
              "#9c179e"
             ],
             [
              0.4444444444444444,
              "#bd3786"
             ],
             [
              0.5555555555555556,
              "#d8576b"
             ],
             [
              0.6666666666666666,
              "#ed7953"
             ],
             [
              0.7777777777777778,
              "#fb9f3a"
             ],
             [
              0.8888888888888888,
              "#fdca26"
             ],
             [
              1,
              "#f0f921"
             ]
            ],
            "type": "histogram2dcontour"
           }
          ],
          "mesh3d": [
           {
            "colorbar": {
             "outlinewidth": 0,
             "ticks": ""
            },
            "type": "mesh3d"
           }
          ],
          "parcoords": [
           {
            "line": {
             "colorbar": {
              "outlinewidth": 0,
              "ticks": ""
             }
            },
            "type": "parcoords"
           }
          ],
          "pie": [
           {
            "automargin": true,
            "type": "pie"
           }
          ],
          "scatter": [
           {
            "fillpattern": {
             "fillmode": "overlay",
             "size": 10,
             "solidity": 0.2
            },
            "type": "scatter"
           }
          ],
          "scatter3d": [
           {
            "line": {
             "colorbar": {
              "outlinewidth": 0,
              "ticks": ""
             }
            },
            "marker": {
             "colorbar": {
              "outlinewidth": 0,
              "ticks": ""
             }
            },
            "type": "scatter3d"
           }
          ],
          "scattercarpet": [
           {
            "marker": {
             "colorbar": {
              "outlinewidth": 0,
              "ticks": ""
             }
            },
            "type": "scattercarpet"
           }
          ],
          "scattergeo": [
           {
            "marker": {
             "colorbar": {
              "outlinewidth": 0,
              "ticks": ""
             }
            },
            "type": "scattergeo"
           }
          ],
          "scattergl": [
           {
            "marker": {
             "colorbar": {
              "outlinewidth": 0,
              "ticks": ""
             }
            },
            "type": "scattergl"
           }
          ],
          "scattermap": [
           {
            "marker": {
             "colorbar": {
              "outlinewidth": 0,
              "ticks": ""
             }
            },
            "type": "scattermap"
           }
          ],
          "scattermapbox": [
           {
            "marker": {
             "colorbar": {
              "outlinewidth": 0,
              "ticks": ""
             }
            },
            "type": "scattermapbox"
           }
          ],
          "scatterpolar": [
           {
            "marker": {
             "colorbar": {
              "outlinewidth": 0,
              "ticks": ""
             }
            },
            "type": "scatterpolar"
           }
          ],
          "scatterpolargl": [
           {
            "marker": {
             "colorbar": {
              "outlinewidth": 0,
              "ticks": ""
             }
            },
            "type": "scatterpolargl"
           }
          ],
          "scatterternary": [
           {
            "marker": {
             "colorbar": {
              "outlinewidth": 0,
              "ticks": ""
             }
            },
            "type": "scatterternary"
           }
          ],
          "surface": [
           {
            "colorbar": {
             "outlinewidth": 0,
             "ticks": ""
            },
            "colorscale": [
             [
              0,
              "#0d0887"
             ],
             [
              0.1111111111111111,
              "#46039f"
             ],
             [
              0.2222222222222222,
              "#7201a8"
             ],
             [
              0.3333333333333333,
              "#9c179e"
             ],
             [
              0.4444444444444444,
              "#bd3786"
             ],
             [
              0.5555555555555556,
              "#d8576b"
             ],
             [
              0.6666666666666666,
              "#ed7953"
             ],
             [
              0.7777777777777778,
              "#fb9f3a"
             ],
             [
              0.8888888888888888,
              "#fdca26"
             ],
             [
              1,
              "#f0f921"
             ]
            ],
            "type": "surface"
           }
          ],
          "table": [
           {
            "cells": {
             "fill": {
              "color": "#EBF0F8"
             },
             "line": {
              "color": "white"
             }
            },
            "header": {
             "fill": {
              "color": "#C8D4E3"
             },
             "line": {
              "color": "white"
             }
            },
            "type": "table"
           }
          ]
         },
         "layout": {
          "annotationdefaults": {
           "arrowcolor": "#2a3f5f",
           "arrowhead": 0,
           "arrowwidth": 1
          },
          "autotypenumbers": "strict",
          "coloraxis": {
           "colorbar": {
            "outlinewidth": 0,
            "ticks": ""
           }
          },
          "colorscale": {
           "diverging": [
            [
             0,
             "#8e0152"
            ],
            [
             0.1,
             "#c51b7d"
            ],
            [
             0.2,
             "#de77ae"
            ],
            [
             0.3,
             "#f1b6da"
            ],
            [
             0.4,
             "#fde0ef"
            ],
            [
             0.5,
             "#f7f7f7"
            ],
            [
             0.6,
             "#e6f5d0"
            ],
            [
             0.7,
             "#b8e186"
            ],
            [
             0.8,
             "#7fbc41"
            ],
            [
             0.9,
             "#4d9221"
            ],
            [
             1,
             "#276419"
            ]
           ],
           "sequential": [
            [
             0,
             "#0d0887"
            ],
            [
             0.1111111111111111,
             "#46039f"
            ],
            [
             0.2222222222222222,
             "#7201a8"
            ],
            [
             0.3333333333333333,
             "#9c179e"
            ],
            [
             0.4444444444444444,
             "#bd3786"
            ],
            [
             0.5555555555555556,
             "#d8576b"
            ],
            [
             0.6666666666666666,
             "#ed7953"
            ],
            [
             0.7777777777777778,
             "#fb9f3a"
            ],
            [
             0.8888888888888888,
             "#fdca26"
            ],
            [
             1,
             "#f0f921"
            ]
           ],
           "sequentialminus": [
            [
             0,
             "#0d0887"
            ],
            [
             0.1111111111111111,
             "#46039f"
            ],
            [
             0.2222222222222222,
             "#7201a8"
            ],
            [
             0.3333333333333333,
             "#9c179e"
            ],
            [
             0.4444444444444444,
             "#bd3786"
            ],
            [
             0.5555555555555556,
             "#d8576b"
            ],
            [
             0.6666666666666666,
             "#ed7953"
            ],
            [
             0.7777777777777778,
             "#fb9f3a"
            ],
            [
             0.8888888888888888,
             "#fdca26"
            ],
            [
             1,
             "#f0f921"
            ]
           ]
          },
          "colorway": [
           "#636efa",
           "#EF553B",
           "#00cc96",
           "#ab63fa",
           "#FFA15A",
           "#19d3f3",
           "#FF6692",
           "#B6E880",
           "#FF97FF",
           "#FECB52"
          ],
          "font": {
           "color": "#2a3f5f"
          },
          "geo": {
           "bgcolor": "white",
           "lakecolor": "white",
           "landcolor": "#E5ECF6",
           "showlakes": true,
           "showland": true,
           "subunitcolor": "white"
          },
          "hoverlabel": {
           "align": "left"
          },
          "hovermode": "closest",
          "mapbox": {
           "style": "light"
          },
          "paper_bgcolor": "white",
          "plot_bgcolor": "#E5ECF6",
          "polar": {
           "angularaxis": {
            "gridcolor": "white",
            "linecolor": "white",
            "ticks": ""
           },
           "bgcolor": "#E5ECF6",
           "radialaxis": {
            "gridcolor": "white",
            "linecolor": "white",
            "ticks": ""
           }
          },
          "scene": {
           "xaxis": {
            "backgroundcolor": "#E5ECF6",
            "gridcolor": "white",
            "gridwidth": 2,
            "linecolor": "white",
            "showbackground": true,
            "ticks": "",
            "zerolinecolor": "white"
           },
           "yaxis": {
            "backgroundcolor": "#E5ECF6",
            "gridcolor": "white",
            "gridwidth": 2,
            "linecolor": "white",
            "showbackground": true,
            "ticks": "",
            "zerolinecolor": "white"
           },
           "zaxis": {
            "backgroundcolor": "#E5ECF6",
            "gridcolor": "white",
            "gridwidth": 2,
            "linecolor": "white",
            "showbackground": true,
            "ticks": "",
            "zerolinecolor": "white"
           }
          },
          "shapedefaults": {
           "line": {
            "color": "#2a3f5f"
           }
          },
          "ternary": {
           "aaxis": {
            "gridcolor": "white",
            "linecolor": "white",
            "ticks": ""
           },
           "baxis": {
            "gridcolor": "white",
            "linecolor": "white",
            "ticks": ""
           },
           "bgcolor": "#E5ECF6",
           "caxis": {
            "gridcolor": "white",
            "linecolor": "white",
            "ticks": ""
           }
          },
          "title": {
           "x": 0.05
          },
          "xaxis": {
           "automargin": true,
           "gridcolor": "white",
           "linecolor": "white",
           "ticks": "",
           "title": {
            "standoff": 15
           },
           "zerolinecolor": "white",
           "zerolinewidth": 2
          },
          "yaxis": {
           "automargin": true,
           "gridcolor": "white",
           "linecolor": "white",
           "ticks": "",
           "title": {
            "standoff": 15
           },
           "zerolinecolor": "white",
           "zerolinewidth": 2
          }
         }
        },
        "xaxis": {
         "anchor": "y",
         "domain": [
          0,
          1
         ],
         "title": {
          "text": "Country/Region"
         }
        },
        "yaxis": {
         "anchor": "x",
         "domain": [
          0,
          1
         ],
         "title": {
          "text": "ActiveCases"
         }
        }
       }
      }
     },
     "metadata": {},
     "output_type": "display_data"
    }
   ],
   "source": [
    "px.bar(covid.head(15),x='Country/Region',y='ActiveCases',height=500,hover_data=['Country/Region','Continent'],color='ActiveCases')"
   ]
  },
  {
   "cell_type": "markdown",
   "id": "e1211936",
   "metadata": {},
   "source": [
    "### Lets dive to get solutions to our problem\n"
   ]
  },
  {
   "cell_type": "code",
   "execution_count": 19,
   "id": "e83d08f2",
   "metadata": {},
   "outputs": [],
   "source": [
    "# highest case fatality rate\n",
    "covid['CaseFatalityRate']=covid['TotalDeaths']/covid['TotalCases']"
   ]
  },
  {
   "cell_type": "code",
   "execution_count": 20,
   "id": "10619923",
   "metadata": {},
   "outputs": [],
   "source": [
    "continent=covid[covid['CaseFatalityRate']==covid['CaseFatalityRate'].max()]"
   ]
  },
  {
   "cell_type": "code",
   "execution_count": 21,
   "id": "5c48a3f0",
   "metadata": {},
   "outputs": [
    {
     "name": "stdout",
     "output_type": "stream",
     "text": [
      "The continent with highest fatality rate is : Asia\n"
     ]
    }
   ],
   "source": [
    "print(f'The continent with highest fatality rate is : {continent['Continent'].values[0]}')"
   ]
  },
  {
   "cell_type": "code",
   "execution_count": 22,
   "id": "55f00c71",
   "metadata": {},
   "outputs": [
    {
     "data": {
      "text/html": [
       "<div>\n",
       "<style scoped>\n",
       "    .dataframe tbody tr th:only-of-type {\n",
       "        vertical-align: middle;\n",
       "    }\n",
       "\n",
       "    .dataframe tbody tr th {\n",
       "        vertical-align: top;\n",
       "    }\n",
       "\n",
       "    .dataframe thead th {\n",
       "        text-align: right;\n",
       "    }\n",
       "</style>\n",
       "<table border=\"1\" class=\"dataframe\">\n",
       "  <thead>\n",
       "    <tr style=\"text-align: right;\">\n",
       "      <th></th>\n",
       "      <th>Population</th>\n",
       "      <th>TotalCases</th>\n",
       "      <th>TotalDeaths</th>\n",
       "      <th>TotalRecovered</th>\n",
       "      <th>ActiveCases</th>\n",
       "      <th>Serious,Critical</th>\n",
       "      <th>Tot Cases/1M pop</th>\n",
       "      <th>Deaths/1M pop</th>\n",
       "      <th>TotalTests</th>\n",
       "      <th>Tests/1M pop</th>\n",
       "      <th>CaseFatalityRate</th>\n",
       "    </tr>\n",
       "  </thead>\n",
       "  <tbody>\n",
       "    <tr>\n",
       "      <th>Population</th>\n",
       "      <td>1.000000</td>\n",
       "      <td>0.546158</td>\n",
       "      <td>0.431072</td>\n",
       "      <td>0.590239</td>\n",
       "      <td>0.459124</td>\n",
       "      <td>0.595379</td>\n",
       "      <td>-0.009337</td>\n",
       "      <td>0.025686</td>\n",
       "      <td>0.497937</td>\n",
       "      <td>-0.075129</td>\n",
       "      <td>0.007784</td>\n",
       "    </tr>\n",
       "    <tr>\n",
       "      <th>TotalCases</th>\n",
       "      <td>0.546158</td>\n",
       "      <td>1.000000</td>\n",
       "      <td>0.938622</td>\n",
       "      <td>0.985764</td>\n",
       "      <td>0.969423</td>\n",
       "      <td>0.967270</td>\n",
       "      <td>0.252627</td>\n",
       "      <td>0.280476</td>\n",
       "      <td>0.891001</td>\n",
       "      <td>0.029141</td>\n",
       "      <td>0.030178</td>\n",
       "    </tr>\n",
       "    <tr>\n",
       "      <th>TotalDeaths</th>\n",
       "      <td>0.431072</td>\n",
       "      <td>0.938622</td>\n",
       "      <td>1.000000</td>\n",
       "      <td>0.935410</td>\n",
       "      <td>0.927625</td>\n",
       "      <td>0.906627</td>\n",
       "      <td>0.237206</td>\n",
       "      <td>0.425186</td>\n",
       "      <td>0.850304</td>\n",
       "      <td>0.053870</td>\n",
       "      <td>0.207957</td>\n",
       "    </tr>\n",
       "    <tr>\n",
       "      <th>TotalRecovered</th>\n",
       "      <td>0.590239</td>\n",
       "      <td>0.985764</td>\n",
       "      <td>0.935410</td>\n",
       "      <td>1.000000</td>\n",
       "      <td>0.914566</td>\n",
       "      <td>0.949628</td>\n",
       "      <td>0.268483</td>\n",
       "      <td>0.296443</td>\n",
       "      <td>0.870113</td>\n",
       "      <td>0.022027</td>\n",
       "      <td>0.016771</td>\n",
       "    </tr>\n",
       "    <tr>\n",
       "      <th>ActiveCases</th>\n",
       "      <td>0.459124</td>\n",
       "      <td>0.969423</td>\n",
       "      <td>0.927625</td>\n",
       "      <td>0.914566</td>\n",
       "      <td>1.000000</td>\n",
       "      <td>0.945943</td>\n",
       "      <td>0.212899</td>\n",
       "      <td>0.255001</td>\n",
       "      <td>0.911488</td>\n",
       "      <td>0.028963</td>\n",
       "      <td>0.012471</td>\n",
       "    </tr>\n",
       "    <tr>\n",
       "      <th>Serious,Critical</th>\n",
       "      <td>0.595379</td>\n",
       "      <td>0.967270</td>\n",
       "      <td>0.906627</td>\n",
       "      <td>0.949628</td>\n",
       "      <td>0.945943</td>\n",
       "      <td>1.000000</td>\n",
       "      <td>0.209668</td>\n",
       "      <td>0.271842</td>\n",
       "      <td>0.859526</td>\n",
       "      <td>0.020649</td>\n",
       "      <td>0.040913</td>\n",
       "    </tr>\n",
       "    <tr>\n",
       "      <th>Tot Cases/1M pop</th>\n",
       "      <td>-0.009337</td>\n",
       "      <td>0.252627</td>\n",
       "      <td>0.237206</td>\n",
       "      <td>0.268483</td>\n",
       "      <td>0.212899</td>\n",
       "      <td>0.209668</td>\n",
       "      <td>1.000000</td>\n",
       "      <td>0.502134</td>\n",
       "      <td>0.194120</td>\n",
       "      <td>0.302728</td>\n",
       "      <td>-0.065130</td>\n",
       "    </tr>\n",
       "    <tr>\n",
       "      <th>Deaths/1M pop</th>\n",
       "      <td>0.025686</td>\n",
       "      <td>0.280476</td>\n",
       "      <td>0.425186</td>\n",
       "      <td>0.296443</td>\n",
       "      <td>0.255001</td>\n",
       "      <td>0.271842</td>\n",
       "      <td>0.502134</td>\n",
       "      <td>1.000000</td>\n",
       "      <td>0.264218</td>\n",
       "      <td>0.156827</td>\n",
       "      <td>0.468472</td>\n",
       "    </tr>\n",
       "    <tr>\n",
       "      <th>TotalTests</th>\n",
       "      <td>0.497937</td>\n",
       "      <td>0.891001</td>\n",
       "      <td>0.850304</td>\n",
       "      <td>0.870113</td>\n",
       "      <td>0.911488</td>\n",
       "      <td>0.859526</td>\n",
       "      <td>0.194120</td>\n",
       "      <td>0.264218</td>\n",
       "      <td>1.000000</td>\n",
       "      <td>0.096177</td>\n",
       "      <td>0.082967</td>\n",
       "    </tr>\n",
       "    <tr>\n",
       "      <th>Tests/1M pop</th>\n",
       "      <td>-0.075129</td>\n",
       "      <td>0.029141</td>\n",
       "      <td>0.053870</td>\n",
       "      <td>0.022027</td>\n",
       "      <td>0.028963</td>\n",
       "      <td>0.020649</td>\n",
       "      <td>0.302728</td>\n",
       "      <td>0.156827</td>\n",
       "      <td>0.096177</td>\n",
       "      <td>1.000000</td>\n",
       "      <td>-0.024104</td>\n",
       "    </tr>\n",
       "    <tr>\n",
       "      <th>CaseFatalityRate</th>\n",
       "      <td>0.007784</td>\n",
       "      <td>0.030178</td>\n",
       "      <td>0.207957</td>\n",
       "      <td>0.016771</td>\n",
       "      <td>0.012471</td>\n",
       "      <td>0.040913</td>\n",
       "      <td>-0.065130</td>\n",
       "      <td>0.468472</td>\n",
       "      <td>0.082967</td>\n",
       "      <td>-0.024104</td>\n",
       "      <td>1.000000</td>\n",
       "    </tr>\n",
       "  </tbody>\n",
       "</table>\n",
       "</div>"
      ],
      "text/plain": [
       "                  Population  TotalCases  TotalDeaths  TotalRecovered  \\\n",
       "Population          1.000000    0.546158     0.431072        0.590239   \n",
       "TotalCases          0.546158    1.000000     0.938622        0.985764   \n",
       "TotalDeaths         0.431072    0.938622     1.000000        0.935410   \n",
       "TotalRecovered      0.590239    0.985764     0.935410        1.000000   \n",
       "ActiveCases         0.459124    0.969423     0.927625        0.914566   \n",
       "Serious,Critical    0.595379    0.967270     0.906627        0.949628   \n",
       "Tot Cases/1M pop   -0.009337    0.252627     0.237206        0.268483   \n",
       "Deaths/1M pop       0.025686    0.280476     0.425186        0.296443   \n",
       "TotalTests          0.497937    0.891001     0.850304        0.870113   \n",
       "Tests/1M pop       -0.075129    0.029141     0.053870        0.022027   \n",
       "CaseFatalityRate    0.007784    0.030178     0.207957        0.016771   \n",
       "\n",
       "                  ActiveCases  Serious,Critical  Tot Cases/1M pop  \\\n",
       "Population           0.459124          0.595379         -0.009337   \n",
       "TotalCases           0.969423          0.967270          0.252627   \n",
       "TotalDeaths          0.927625          0.906627          0.237206   \n",
       "TotalRecovered       0.914566          0.949628          0.268483   \n",
       "ActiveCases          1.000000          0.945943          0.212899   \n",
       "Serious,Critical     0.945943          1.000000          0.209668   \n",
       "Tot Cases/1M pop     0.212899          0.209668          1.000000   \n",
       "Deaths/1M pop        0.255001          0.271842          0.502134   \n",
       "TotalTests           0.911488          0.859526          0.194120   \n",
       "Tests/1M pop         0.028963          0.020649          0.302728   \n",
       "CaseFatalityRate     0.012471          0.040913         -0.065130   \n",
       "\n",
       "                  Deaths/1M pop  TotalTests  Tests/1M pop  CaseFatalityRate  \n",
       "Population             0.025686    0.497937     -0.075129          0.007784  \n",
       "TotalCases             0.280476    0.891001      0.029141          0.030178  \n",
       "TotalDeaths            0.425186    0.850304      0.053870          0.207957  \n",
       "TotalRecovered         0.296443    0.870113      0.022027          0.016771  \n",
       "ActiveCases            0.255001    0.911488      0.028963          0.012471  \n",
       "Serious,Critical       0.271842    0.859526      0.020649          0.040913  \n",
       "Tot Cases/1M pop       0.502134    0.194120      0.302728         -0.065130  \n",
       "Deaths/1M pop          1.000000    0.264218      0.156827          0.468472  \n",
       "TotalTests             0.264218    1.000000      0.096177          0.082967  \n",
       "Tests/1M pop           0.156827    0.096177      1.000000         -0.024104  \n",
       "CaseFatalityRate       0.468472    0.082967     -0.024104          1.000000  "
      ]
     },
     "execution_count": 22,
     "metadata": {},
     "output_type": "execute_result"
    }
   ],
   "source": [
    "# Lets Check for relationship between variables\n",
    "\n",
    "covid.select_dtypes(include=['int64','float64']).corr()"
   ]
  },
  {
   "cell_type": "code",
   "execution_count": 23,
   "id": "2024da58",
   "metadata": {},
   "outputs": [],
   "source": [
    "covid.rename(columns={'Tot Cases/1M pop':'TotalCases/1M','Tests/1M pop':'TotalTests/1M'},inplace=True)"
   ]
  },
  {
   "cell_type": "code",
   "execution_count": 24,
   "id": "61a33bcb",
   "metadata": {},
   "outputs": [],
   "source": [
    "import matplotlib.pyplot as plt \n",
    "import seaborn as sns\n"
   ]
  },
  {
   "cell_type": "code",
   "execution_count": 25,
   "id": "a2245f00",
   "metadata": {},
   "outputs": [
    {
     "data": {
      "text/plain": [
       "Text(0.5, 1.0, 'Relationship between TotalCase/1M and TotalTests/1M')"
      ]
     },
     "execution_count": 25,
     "metadata": {},
     "output_type": "execute_result"
    },
    {
     "data": {
      "image/png": "[encoded data removed]",
      "text/plain": [
       "<Figure size 640x480 with 1 Axes>"
      ]
     },
     "metadata": {},
     "output_type": "display_data"
    }
   ],
   "source": [
    "sns.scatterplot(x='TotalCases/1M',y='TotalTests/1M',data=covid)\n",
    "plt.xlabel('Total Cases Per Million')\n",
    "plt.ylabel('Total Tests per million')\n",
    "plt.title('Relationship between TotalCase/1M and TotalTests/1M')\n"
   ]
  },
  {
   "cell_type": "code",
   "execution_count": 26,
   "id": "f0d6340c",
   "metadata": {},
   "outputs": [
    {
     "data": {
      "text/plain": [
       "(0.0, 1045045.9)"
      ]
     },
     "execution_count": 26,
     "metadata": {},
     "output_type": "execute_result"
    },
    {
     "data": {
      "image/png": "[encoded data removed]",
      "text/plain": [
       "<Figure size 640x480 with 1 Axes>"
      ]
     },
     "metadata": {},
     "output_type": "display_data"
    }
   ],
   "source": [
    "sns.regplot(x='TotalCases/1M',y='TotalTests/1M',data=covid,color='red')\n",
    "plt.title('Relationship between Totalcases/1M and TotalTests/1M')\n",
    "plt.ylim(0,)"
   ]
  },
  {
   "cell_type": "code",
   "execution_count": 27,
   "id": "8925cfc1",
   "metadata": {},
   "outputs": [
    {
     "data": {
      "text/plain": [
       "Country/Region       0\n",
       "Continent            1\n",
       "Population           1\n",
       "TotalCases           0\n",
       "TotalDeaths         21\n",
       "TotalRecovered       4\n",
       "ActiveCases          4\n",
       "Serious,Critical    87\n",
       "TotalCases/1M        1\n",
       "Deaths/1M pop       22\n",
       "TotalTests          18\n",
       "TotalTests/1M       18\n",
       "WHO Region          25\n",
       "iso_alpha            0\n",
       "CaseFatalityRate    21\n",
       "dtype: int64"
      ]
     },
     "execution_count": 27,
     "metadata": {},
     "output_type": "execute_result"
    }
   ],
   "source": [
    "covid.isna().sum()"
   ]
  },
  {
   "cell_type": "code",
   "execution_count": 28,
   "id": "33cd4064",
   "metadata": {},
   "outputs": [],
   "source": [
    "covid['TotalCases/1M']=covid['TotalCases/1M'].fillna(covid['TotalCases/1M'].mean())"
   ]
  },
  {
   "cell_type": "code",
   "execution_count": 29,
   "id": "e9badff8",
   "metadata": {},
   "outputs": [],
   "source": [
    "covid['TotalTests/1M']=covid['TotalTests/1M'].fillna(covid['TotalTests/1M'].mean())"
   ]
  },
  {
   "cell_type": "code",
   "execution_count": 30,
   "id": "7ef42eb9",
   "metadata": {},
   "outputs": [
    {
     "name": "stdout",
     "output_type": "stream",
     "text": [
      "Correlation between TotalCases/1M and TotalTests/1M is 0.2951298378174184 and p_value indicates 1.4373626634452479e-05 a Null hypothesis\n"
     ]
    }
   ],
   "source": [
    "# From above graphs we can see that the number of cases are slightly increases with increase in number of tests we cannot clearly say that the number of cases depends completely on the number of tests\n",
    "# Lets check coorelation between them\n",
    "from scipy.stats import pearsonr\n",
    "corr,p_val=pearsonr(covid['TotalCases/1M'],covid['TotalTests/1M'])\n",
    "print(f'Correlation between TotalCases/1M and TotalTests/1M is {corr} and p_value indicates {p_val} a Null hypothesis')"
   ]
  },
  {
   "cell_type": "code",
   "execution_count": 31,
   "id": "6654821e",
   "metadata": {},
   "outputs": [
    {
     "data": {
      "text/plain": [
       "Index(['Country/Region', 'Continent', 'Population', 'TotalCases',\n",
       "       'TotalDeaths', 'TotalRecovered', 'ActiveCases', 'Serious,Critical',\n",
       "       'TotalCases/1M', 'Deaths/1M pop', 'TotalTests', 'TotalTests/1M',\n",
       "       'WHO Region', 'iso_alpha', 'CaseFatalityRate'],\n",
       "      dtype='object')"
      ]
     },
     "execution_count": 31,
     "metadata": {},
     "output_type": "execute_result"
    }
   ],
   "source": [
    "covid.columns"
   ]
  },
  {
   "cell_type": "code",
   "execution_count": 32,
   "id": "c2b16e6f",
   "metadata": {},
   "outputs": [],
   "source": [
    "# Countries with high deathrates per 1M but lowertesting per 1M\n",
    "high_deaths=covid.sort_values(by=['Deaths/1M pop'],ascending=False)\n"
   ]
  },
  {
   "cell_type": "code",
   "execution_count": 33,
   "id": "9aaebcd1",
   "metadata": {},
   "outputs": [],
   "source": [
    "top_country=high_deaths.iloc[0:10]"
   ]
  },
  {
   "cell_type": "code",
   "execution_count": 34,
   "id": "b063ccba",
   "metadata": {},
   "outputs": [],
   "source": [
    "top_country_hd_lt=top_country.sort_values(by=['TotalTests/1M'],ascending=True)"
   ]
  },
  {
   "cell_type": "code",
   "execution_count": 35,
   "id": "493a4b1c",
   "metadata": {},
   "outputs": [
    {
     "name": "stdout",
     "output_type": "stream",
     "text": [
      "List of Top 10 Countries with High Death Rates 1M and Low Testing per 1M\n",
      "Andorra\n",
      "Peru\n",
      "Sweden\n",
      "Chile\n",
      "Italy\n",
      "Spain\n",
      "Belgium\n",
      "San Marino\n",
      "USA\n",
      "UK\n"
     ]
    }
   ],
   "source": [
    "print('List of Top 10 Countries with High Death Rates 1M and Low Testing per 1M')\n",
    "countrys=top_country_hd_lt['Country/Region'].values\n",
    "for x in countrys:\n",
    "    print(x)"
   ]
  },
  {
   "cell_type": "code",
   "execution_count": 36,
   "id": "af4ed1a3",
   "metadata": {},
   "outputs": [
    {
     "data": {
      "text/plain": [
       "Country/Region       object\n",
       "Continent            object\n",
       "Population          float64\n",
       "TotalCases            int64\n",
       "TotalDeaths         float64\n",
       "TotalRecovered      float64\n",
       "ActiveCases         float64\n",
       "Serious,Critical    float64\n",
       "TotalCases/1M       float64\n",
       "Deaths/1M pop       float64\n",
       "TotalTests          float64\n",
       "TotalTests/1M       float64\n",
       "WHO Region           object\n",
       "iso_alpha            object\n",
       "CaseFatalityRate    float64\n",
       "dtype: object"
      ]
     },
     "execution_count": 36,
     "metadata": {},
     "output_type": "execute_result"
    }
   ],
   "source": [
    "covid.dtypes"
   ]
  },
  {
   "cell_type": "code",
   "execution_count": 37,
   "id": "1f256fbd",
   "metadata": {},
   "outputs": [],
   "source": [
    "# Lets Check for Countries with higher avg population but lower avg case numbers\n",
    "avg_pl=covid[(covid['Population']>covid['Population'].mean()) & (covid['TotalCases']<covid['TotalCases'].mean())]"
   ]
  },
  {
   "cell_type": "code",
   "execution_count": 38,
   "id": "750a5230",
   "metadata": {},
   "outputs": [],
   "source": [
    "sorted_avg=avg_pl.sort_values(by=['Population'],ascending=True)"
   ]
  },
  {
   "cell_type": "code",
   "execution_count": 39,
   "id": "b9e18d39",
   "metadata": {},
   "outputs": [
    {
     "data": {
      "text/html": [
       "<div>\n",
       "<style scoped>\n",
       "    .dataframe tbody tr th:only-of-type {\n",
       "        vertical-align: middle;\n",
       "    }\n",
       "\n",
       "    .dataframe tbody tr th {\n",
       "        vertical-align: top;\n",
       "    }\n",
       "\n",
       "    .dataframe thead th {\n",
       "        text-align: right;\n",
       "    }\n",
       "</style>\n",
       "<table border=\"1\" class=\"dataframe\">\n",
       "  <thead>\n",
       "    <tr style=\"text-align: right;\">\n",
       "      <th></th>\n",
       "      <th>Country/Region</th>\n",
       "      <th>Continent</th>\n",
       "      <th>Population</th>\n",
       "      <th>TotalCases</th>\n",
       "      <th>TotalDeaths</th>\n",
       "      <th>TotalRecovered</th>\n",
       "      <th>ActiveCases</th>\n",
       "      <th>Serious,Critical</th>\n",
       "      <th>TotalCases/1M</th>\n",
       "      <th>Deaths/1M pop</th>\n",
       "      <th>TotalTests</th>\n",
       "      <th>TotalTests/1M</th>\n",
       "      <th>WHO Region</th>\n",
       "      <th>iso_alpha</th>\n",
       "      <th>CaseFatalityRate</th>\n",
       "    </tr>\n",
       "  </thead>\n",
       "  <tbody>\n",
       "    <tr>\n",
       "      <th>50</th>\n",
       "      <td>Ghana</td>\n",
       "      <td>Africa</td>\n",
       "      <td>31133483.0</td>\n",
       "      <td>39642</td>\n",
       "      <td>199.0</td>\n",
       "      <td>36384.0</td>\n",
       "      <td>3059.0</td>\n",
       "      <td>7.0</td>\n",
       "      <td>1273.0</td>\n",
       "      <td>6.0</td>\n",
       "      <td>405817.0</td>\n",
       "      <td>13035.000000</td>\n",
       "      <td>Africa</td>\n",
       "      <td>GHA</td>\n",
       "      <td>0.005020</td>\n",
       "    </tr>\n",
       "    <tr>\n",
       "      <th>124</th>\n",
       "      <td>Mozambique</td>\n",
       "      <td>Africa</td>\n",
       "      <td>31333962.0</td>\n",
       "      <td>2120</td>\n",
       "      <td>15.0</td>\n",
       "      <td>795.0</td>\n",
       "      <td>1310.0</td>\n",
       "      <td>NaN</td>\n",
       "      <td>68.0</td>\n",
       "      <td>0.5</td>\n",
       "      <td>65151.0</td>\n",
       "      <td>2079.000000</td>\n",
       "      <td>Africa</td>\n",
       "      <td>MOZ</td>\n",
       "      <td>0.007075</td>\n",
       "    </tr>\n",
       "    <tr>\n",
       "      <th>83</th>\n",
       "      <td>Malaysia</td>\n",
       "      <td>Asia</td>\n",
       "      <td>32406372.0</td>\n",
       "      <td>9038</td>\n",
       "      <td>125.0</td>\n",
       "      <td>8713.0</td>\n",
       "      <td>200.0</td>\n",
       "      <td>2.0</td>\n",
       "      <td>279.0</td>\n",
       "      <td>4.0</td>\n",
       "      <td>991333.0</td>\n",
       "      <td>30591.000000</td>\n",
       "      <td>WesternPacific</td>\n",
       "      <td>MYS</td>\n",
       "      <td>0.013830</td>\n",
       "    </tr>\n",
       "    <tr>\n",
       "      <th>134</th>\n",
       "      <td>Angola</td>\n",
       "      <td>Africa</td>\n",
       "      <td>32956300.0</td>\n",
       "      <td>1483</td>\n",
       "      <td>64.0</td>\n",
       "      <td>520.0</td>\n",
       "      <td>899.0</td>\n",
       "      <td>20.0</td>\n",
       "      <td>45.0</td>\n",
       "      <td>2.0</td>\n",
       "      <td>64747.0</td>\n",
       "      <td>1965.000000</td>\n",
       "      <td>Africa</td>\n",
       "      <td>AGO</td>\n",
       "      <td>0.043156</td>\n",
       "    </tr>\n",
       "    <tr>\n",
       "      <th>57</th>\n",
       "      <td>Uzbekistan</td>\n",
       "      <td>Asia</td>\n",
       "      <td>33516027.0</td>\n",
       "      <td>28315</td>\n",
       "      <td>175.0</td>\n",
       "      <td>19291.0</td>\n",
       "      <td>8849.0</td>\n",
       "      <td>228.0</td>\n",
       "      <td>845.0</td>\n",
       "      <td>5.0</td>\n",
       "      <td>1377915.0</td>\n",
       "      <td>41112.000000</td>\n",
       "      <td>Europe</td>\n",
       "      <td>UZB</td>\n",
       "      <td>0.006180</td>\n",
       "    </tr>\n",
       "    <tr>\n",
       "      <th>56</th>\n",
       "      <td>Morocco</td>\n",
       "      <td>Africa</td>\n",
       "      <td>36953359.0</td>\n",
       "      <td>29644</td>\n",
       "      <td>449.0</td>\n",
       "      <td>20553.0</td>\n",
       "      <td>8642.0</td>\n",
       "      <td>31.0</td>\n",
       "      <td>802.0</td>\n",
       "      <td>12.0</td>\n",
       "      <td>1383816.0</td>\n",
       "      <td>37448.000000</td>\n",
       "      <td>EasternMediterranean</td>\n",
       "      <td>MAR</td>\n",
       "      <td>0.015146</td>\n",
       "    </tr>\n",
       "    <tr>\n",
       "      <th>44</th>\n",
       "      <td>Poland</td>\n",
       "      <td>Europe</td>\n",
       "      <td>37842302.0</td>\n",
       "      <td>49515</td>\n",
       "      <td>1774.0</td>\n",
       "      <td>35642.0</td>\n",
       "      <td>12099.0</td>\n",
       "      <td>72.0</td>\n",
       "      <td>1308.0</td>\n",
       "      <td>47.0</td>\n",
       "      <td>2374686.0</td>\n",
       "      <td>62752.000000</td>\n",
       "      <td>Europe</td>\n",
       "      <td>POL</td>\n",
       "      <td>0.035828</td>\n",
       "    </tr>\n",
       "    <tr>\n",
       "      <th>52</th>\n",
       "      <td>Afghanistan</td>\n",
       "      <td>Asia</td>\n",
       "      <td>39009447.0</td>\n",
       "      <td>36896</td>\n",
       "      <td>1298.0</td>\n",
       "      <td>25840.0</td>\n",
       "      <td>9758.0</td>\n",
       "      <td>31.0</td>\n",
       "      <td>946.0</td>\n",
       "      <td>33.0</td>\n",
       "      <td>90396.0</td>\n",
       "      <td>2317.000000</td>\n",
       "      <td>EasternMediterranean</td>\n",
       "      <td>AFG</td>\n",
       "      <td>0.035180</td>\n",
       "    </tr>\n",
       "    <tr>\n",
       "      <th>32</th>\n",
       "      <td>Ukraine</td>\n",
       "      <td>Europe</td>\n",
       "      <td>43705858.0</td>\n",
       "      <td>76808</td>\n",
       "      <td>1819.0</td>\n",
       "      <td>42524.0</td>\n",
       "      <td>32465.0</td>\n",
       "      <td>158.0</td>\n",
       "      <td>1757.0</td>\n",
       "      <td>42.0</td>\n",
       "      <td>1116641.0</td>\n",
       "      <td>25549.000000</td>\n",
       "      <td>Europe</td>\n",
       "      <td>UKR</td>\n",
       "      <td>0.023682</td>\n",
       "    </tr>\n",
       "    <tr>\n",
       "      <th>54</th>\n",
       "      <td>Algeria</td>\n",
       "      <td>Africa</td>\n",
       "      <td>43926079.0</td>\n",
       "      <td>33626</td>\n",
       "      <td>1273.0</td>\n",
       "      <td>23238.0</td>\n",
       "      <td>9115.0</td>\n",
       "      <td>57.0</td>\n",
       "      <td>766.0</td>\n",
       "      <td>29.0</td>\n",
       "      <td>NaN</td>\n",
       "      <td>83959.366492</td>\n",
       "      <td>Africa</td>\n",
       "      <td>DZA</td>\n",
       "      <td>0.037858</td>\n",
       "    </tr>\n",
       "    <tr>\n",
       "      <th>78</th>\n",
       "      <td>Sudan</td>\n",
       "      <td>Africa</td>\n",
       "      <td>43943536.0</td>\n",
       "      <td>11780</td>\n",
       "      <td>763.0</td>\n",
       "      <td>6194.0</td>\n",
       "      <td>4823.0</td>\n",
       "      <td>NaN</td>\n",
       "      <td>268.0</td>\n",
       "      <td>17.0</td>\n",
       "      <td>401.0</td>\n",
       "      <td>9.000000</td>\n",
       "      <td>EasternMediterranean</td>\n",
       "      <td>SDN</td>\n",
       "      <td>0.064771</td>\n",
       "    </tr>\n",
       "    <tr>\n",
       "      <th>139</th>\n",
       "      <td>Uganda</td>\n",
       "      <td>Africa</td>\n",
       "      <td>45867852.0</td>\n",
       "      <td>1223</td>\n",
       "      <td>5.0</td>\n",
       "      <td>1102.0</td>\n",
       "      <td>116.0</td>\n",
       "      <td>NaN</td>\n",
       "      <td>27.0</td>\n",
       "      <td>0.1</td>\n",
       "      <td>288367.0</td>\n",
       "      <td>6287.000000</td>\n",
       "      <td>Africa</td>\n",
       "      <td>UGA</td>\n",
       "      <td>0.004088</td>\n",
       "    </tr>\n",
       "    <tr>\n",
       "      <th>72</th>\n",
       "      <td>S. Korea</td>\n",
       "      <td>Asia</td>\n",
       "      <td>51273732.0</td>\n",
       "      <td>14519</td>\n",
       "      <td>303.0</td>\n",
       "      <td>13543.0</td>\n",
       "      <td>673.0</td>\n",
       "      <td>18.0</td>\n",
       "      <td>283.0</td>\n",
       "      <td>6.0</td>\n",
       "      <td>1613652.0</td>\n",
       "      <td>31471.000000</td>\n",
       "      <td>WesternPacific</td>\n",
       "      <td></td>\n",
       "      <td>0.020869</td>\n",
       "    </tr>\n",
       "    <tr>\n",
       "      <th>61</th>\n",
       "      <td>Kenya</td>\n",
       "      <td>Africa</td>\n",
       "      <td>53881160.0</td>\n",
       "      <td>24411</td>\n",
       "      <td>399.0</td>\n",
       "      <td>10444.0</td>\n",
       "      <td>13568.0</td>\n",
       "      <td>44.0</td>\n",
       "      <td>453.0</td>\n",
       "      <td>7.0</td>\n",
       "      <td>335318.0</td>\n",
       "      <td>6223.000000</td>\n",
       "      <td>Africa</td>\n",
       "      <td>KEN</td>\n",
       "      <td>0.016345</td>\n",
       "    </tr>\n",
       "    <tr>\n",
       "      <th>165</th>\n",
       "      <td>Myanmar</td>\n",
       "      <td>Asia</td>\n",
       "      <td>54446389.0</td>\n",
       "      <td>357</td>\n",
       "      <td>6.0</td>\n",
       "      <td>308.0</td>\n",
       "      <td>43.0</td>\n",
       "      <td>NaN</td>\n",
       "      <td>7.0</td>\n",
       "      <td>0.1</td>\n",
       "      <td>122290.0</td>\n",
       "      <td>2246.000000</td>\n",
       "      <td>South-EastAsia</td>\n",
       "      <td>MMR</td>\n",
       "      <td>0.016807</td>\n",
       "    </tr>\n",
       "    <tr>\n",
       "      <th>161</th>\n",
       "      <td>Tanzania</td>\n",
       "      <td>Africa</td>\n",
       "      <td>59886383.0</td>\n",
       "      <td>509</td>\n",
       "      <td>21.0</td>\n",
       "      <td>183.0</td>\n",
       "      <td>305.0</td>\n",
       "      <td>7.0</td>\n",
       "      <td>8.0</td>\n",
       "      <td>0.4</td>\n",
       "      <td>NaN</td>\n",
       "      <td>83959.366492</td>\n",
       "      <td>Africa</td>\n",
       "      <td>TZA</td>\n",
       "      <td>0.041257</td>\n",
       "    </tr>\n",
       "    <tr>\n",
       "      <th>110</th>\n",
       "      <td>Thailand</td>\n",
       "      <td>Asia</td>\n",
       "      <td>69817894.0</td>\n",
       "      <td>3330</td>\n",
       "      <td>58.0</td>\n",
       "      <td>3148.0</td>\n",
       "      <td>124.0</td>\n",
       "      <td>1.0</td>\n",
       "      <td>48.0</td>\n",
       "      <td>0.8</td>\n",
       "      <td>749213.0</td>\n",
       "      <td>10731.000000</td>\n",
       "      <td>South-EastAsia</td>\n",
       "      <td>THA</td>\n",
       "      <td>0.017417</td>\n",
       "    </tr>\n",
       "    <tr>\n",
       "      <th>82</th>\n",
       "      <td>DRC</td>\n",
       "      <td>Africa</td>\n",
       "      <td>89802183.0</td>\n",
       "      <td>9309</td>\n",
       "      <td>215.0</td>\n",
       "      <td>8048.0</td>\n",
       "      <td>1046.0</td>\n",
       "      <td>NaN</td>\n",
       "      <td>104.0</td>\n",
       "      <td>2.0</td>\n",
       "      <td>NaN</td>\n",
       "      <td>83959.366492</td>\n",
       "      <td>Africa</td>\n",
       "      <td></td>\n",
       "      <td>0.023096</td>\n",
       "    </tr>\n",
       "    <tr>\n",
       "      <th>154</th>\n",
       "      <td>Vietnam</td>\n",
       "      <td>Asia</td>\n",
       "      <td>97425470.0</td>\n",
       "      <td>747</td>\n",
       "      <td>10.0</td>\n",
       "      <td>392.0</td>\n",
       "      <td>345.0</td>\n",
       "      <td>NaN</td>\n",
       "      <td>8.0</td>\n",
       "      <td>0.1</td>\n",
       "      <td>482456.0</td>\n",
       "      <td>4952.000000</td>\n",
       "      <td>WesternPacific</td>\n",
       "      <td>VNM</td>\n",
       "      <td>0.013387</td>\n",
       "    </tr>\n",
       "    <tr>\n",
       "      <th>66</th>\n",
       "      <td>Ethiopia</td>\n",
       "      <td>Africa</td>\n",
       "      <td>115223736.0</td>\n",
       "      <td>20900</td>\n",
       "      <td>365.0</td>\n",
       "      <td>9027.0</td>\n",
       "      <td>11508.0</td>\n",
       "      <td>185.0</td>\n",
       "      <td>181.0</td>\n",
       "      <td>3.0</td>\n",
       "      <td>468814.0</td>\n",
       "      <td>4069.000000</td>\n",
       "      <td>Africa</td>\n",
       "      <td>ETH</td>\n",
       "      <td>0.017464</td>\n",
       "    </tr>\n",
       "    <tr>\n",
       "      <th>48</th>\n",
       "      <td>Japan</td>\n",
       "      <td>Asia</td>\n",
       "      <td>126435859.0</td>\n",
       "      <td>42263</td>\n",
       "      <td>1026.0</td>\n",
       "      <td>28877.0</td>\n",
       "      <td>12360.0</td>\n",
       "      <td>115.0</td>\n",
       "      <td>334.0</td>\n",
       "      <td>8.0</td>\n",
       "      <td>938739.0</td>\n",
       "      <td>7425.000000</td>\n",
       "      <td>WesternPacific</td>\n",
       "      <td>JPN</td>\n",
       "      <td>0.024277</td>\n",
       "    </tr>\n",
       "    <tr>\n",
       "      <th>45</th>\n",
       "      <td>Nigeria</td>\n",
       "      <td>Africa</td>\n",
       "      <td>206606300.0</td>\n",
       "      <td>45244</td>\n",
       "      <td>930.0</td>\n",
       "      <td>32430.0</td>\n",
       "      <td>11884.0</td>\n",
       "      <td>7.0</td>\n",
       "      <td>219.0</td>\n",
       "      <td>5.0</td>\n",
       "      <td>306894.0</td>\n",
       "      <td>1485.000000</td>\n",
       "      <td>Africa</td>\n",
       "      <td>NGA</td>\n",
       "      <td>0.020555</td>\n",
       "    </tr>\n",
       "  </tbody>\n",
       "</table>\n",
       "</div>"
      ],
      "text/plain": [
       "    Country/Region Continent   Population  TotalCases  TotalDeaths  \\\n",
       "50           Ghana    Africa   31133483.0       39642        199.0   \n",
       "124     Mozambique    Africa   31333962.0        2120         15.0   \n",
       "83        Malaysia      Asia   32406372.0        9038        125.0   \n",
       "134         Angola    Africa   32956300.0        1483         64.0   \n",
       "57      Uzbekistan      Asia   33516027.0       28315        175.0   \n",
       "56         Morocco    Africa   36953359.0       29644        449.0   \n",
       "44          Poland    Europe   37842302.0       49515       1774.0   \n",
       "52     Afghanistan      Asia   39009447.0       36896       1298.0   \n",
       "32         Ukraine    Europe   43705858.0       76808       1819.0   \n",
       "54         Algeria    Africa   43926079.0       33626       1273.0   \n",
       "78           Sudan    Africa   43943536.0       11780        763.0   \n",
       "139         Uganda    Africa   45867852.0        1223          5.0   \n",
       "72        S. Korea      Asia   51273732.0       14519        303.0   \n",
       "61           Kenya    Africa   53881160.0       24411        399.0   \n",
       "165        Myanmar      Asia   54446389.0         357          6.0   \n",
       "161       Tanzania    Africa   59886383.0         509         21.0   \n",
       "110       Thailand      Asia   69817894.0        3330         58.0   \n",
       "82             DRC    Africa   89802183.0        9309        215.0   \n",
       "154        Vietnam      Asia   97425470.0         747         10.0   \n",
       "66        Ethiopia    Africa  115223736.0       20900        365.0   \n",
       "48           Japan      Asia  126435859.0       42263       1026.0   \n",
       "45         Nigeria    Africa  206606300.0       45244        930.0   \n",
       "\n",
       "     TotalRecovered  ActiveCases  Serious,Critical  TotalCases/1M  \\\n",
       "50          36384.0       3059.0               7.0         1273.0   \n",
       "124           795.0       1310.0               NaN           68.0   \n",
       "83           8713.0        200.0               2.0          279.0   \n",
       "134           520.0        899.0              20.0           45.0   \n",
       "57          19291.0       8849.0             228.0          845.0   \n",
       "56          20553.0       8642.0              31.0          802.0   \n",
       "44          35642.0      12099.0              72.0         1308.0   \n",
       "52          25840.0       9758.0              31.0          946.0   \n",
       "32          42524.0      32465.0             158.0         1757.0   \n",
       "54          23238.0       9115.0              57.0          766.0   \n",
       "78           6194.0       4823.0               NaN          268.0   \n",
       "139          1102.0        116.0               NaN           27.0   \n",
       "72          13543.0        673.0              18.0          283.0   \n",
       "61          10444.0      13568.0              44.0          453.0   \n",
       "165           308.0         43.0               NaN            7.0   \n",
       "161           183.0        305.0               7.0            8.0   \n",
       "110          3148.0        124.0               1.0           48.0   \n",
       "82           8048.0       1046.0               NaN          104.0   \n",
       "154           392.0        345.0               NaN            8.0   \n",
       "66           9027.0      11508.0             185.0          181.0   \n",
       "48          28877.0      12360.0             115.0          334.0   \n",
       "45          32430.0      11884.0               7.0          219.0   \n",
       "\n",
       "     Deaths/1M pop  TotalTests  TotalTests/1M            WHO Region iso_alpha  \\\n",
       "50             6.0    405817.0   13035.000000                Africa       GHA   \n",
       "124            0.5     65151.0    2079.000000                Africa       MOZ   \n",
       "83             4.0    991333.0   30591.000000        WesternPacific       MYS   \n",
       "134            2.0     64747.0    1965.000000                Africa       AGO   \n",
       "57             5.0   1377915.0   41112.000000                Europe       UZB   \n",
       "56            12.0   1383816.0   37448.000000  EasternMediterranean       MAR   \n",
       "44            47.0   2374686.0   62752.000000                Europe       POL   \n",
       "52            33.0     90396.0    2317.000000  EasternMediterranean       AFG   \n",
       "32            42.0   1116641.0   25549.000000                Europe       UKR   \n",
       "54            29.0         NaN   83959.366492                Africa       DZA   \n",
       "78            17.0       401.0       9.000000  EasternMediterranean       SDN   \n",
       "139            0.1    288367.0    6287.000000                Africa       UGA   \n",
       "72             6.0   1613652.0   31471.000000        WesternPacific             \n",
       "61             7.0    335318.0    6223.000000                Africa       KEN   \n",
       "165            0.1    122290.0    2246.000000        South-EastAsia       MMR   \n",
       "161            0.4         NaN   83959.366492                Africa       TZA   \n",
       "110            0.8    749213.0   10731.000000        South-EastAsia       THA   \n",
       "82             2.0         NaN   83959.366492                Africa             \n",
       "154            0.1    482456.0    4952.000000        WesternPacific       VNM   \n",
       "66             3.0    468814.0    4069.000000                Africa       ETH   \n",
       "48             8.0    938739.0    7425.000000        WesternPacific       JPN   \n",
       "45             5.0    306894.0    1485.000000                Africa       NGA   \n",
       "\n",
       "     CaseFatalityRate  \n",
       "50           0.005020  \n",
       "124          0.007075  \n",
       "83           0.013830  \n",
       "134          0.043156  \n",
       "57           0.006180  \n",
       "56           0.015146  \n",
       "44           0.035828  \n",
       "52           0.035180  \n",
       "32           0.023682  \n",
       "54           0.037858  \n",
       "78           0.064771  \n",
       "139          0.004088  \n",
       "72           0.020869  \n",
       "61           0.016345  \n",
       "165          0.016807  \n",
       "161          0.041257  \n",
       "110          0.017417  \n",
       "82           0.023096  \n",
       "154          0.013387  \n",
       "66           0.017464  \n",
       "48           0.024277  \n",
       "45           0.020555  "
      ]
     },
     "execution_count": 39,
     "metadata": {},
     "output_type": "execute_result"
    }
   ],
   "source": [
    "sorted_avg"
   ]
  },
  {
   "cell_type": "code",
   "execution_count": 40,
   "id": "cc771c4d",
   "metadata": {},
   "outputs": [],
   "source": [
    "# This countries have less spread of infection that its getting a less cases over more population . The infection is not widely spread over this region or they might have tried to overcome the infection by maintaing rules and regulations with a good medical facilities"
   ]
  },
  {
   "cell_type": "markdown",
   "id": "ff710d57",
   "metadata": {},
   "source": [
    "### Covid Grouped Data\n"
   ]
  },
  {
   "cell_type": "code",
   "execution_count": 41,
   "id": "4bde55e1",
   "metadata": {},
   "outputs": [
    {
     "data": {
      "text/html": [
       "<div>\n",
       "<style scoped>\n",
       "    .dataframe tbody tr th:only-of-type {\n",
       "        vertical-align: middle;\n",
       "    }\n",
       "\n",
       "    .dataframe tbody tr th {\n",
       "        vertical-align: top;\n",
       "    }\n",
       "\n",
       "    .dataframe thead th {\n",
       "        text-align: right;\n",
       "    }\n",
       "</style>\n",
       "<table border=\"1\" class=\"dataframe\">\n",
       "  <thead>\n",
       "    <tr style=\"text-align: right;\">\n",
       "      <th></th>\n",
       "      <th>Date</th>\n",
       "      <th>Country/Region</th>\n",
       "      <th>Confirmed</th>\n",
       "      <th>Deaths</th>\n",
       "      <th>Recovered</th>\n",
       "      <th>Active</th>\n",
       "      <th>New cases</th>\n",
       "      <th>New deaths</th>\n",
       "      <th>New recovered</th>\n",
       "      <th>WHO Region</th>\n",
       "      <th>iso_alpha</th>\n",
       "    </tr>\n",
       "  </thead>\n",
       "  <tbody>\n",
       "    <tr>\n",
       "      <th>0</th>\n",
       "      <td>2020-01-22</td>\n",
       "      <td>Afghanistan</td>\n",
       "      <td>0</td>\n",
       "      <td>0</td>\n",
       "      <td>0</td>\n",
       "      <td>0</td>\n",
       "      <td>0</td>\n",
       "      <td>0</td>\n",
       "      <td>0</td>\n",
       "      <td>Eastern Mediterranean</td>\n",
       "      <td>AFG</td>\n",
       "    </tr>\n",
       "    <tr>\n",
       "      <th>1</th>\n",
       "      <td>2020-01-22</td>\n",
       "      <td>Albania</td>\n",
       "      <td>0</td>\n",
       "      <td>0</td>\n",
       "      <td>0</td>\n",
       "      <td>0</td>\n",
       "      <td>0</td>\n",
       "      <td>0</td>\n",
       "      <td>0</td>\n",
       "      <td>Europe</td>\n",
       "      <td>ALB</td>\n",
       "    </tr>\n",
       "    <tr>\n",
       "      <th>2</th>\n",
       "      <td>2020-01-22</td>\n",
       "      <td>Algeria</td>\n",
       "      <td>0</td>\n",
       "      <td>0</td>\n",
       "      <td>0</td>\n",
       "      <td>0</td>\n",
       "      <td>0</td>\n",
       "      <td>0</td>\n",
       "      <td>0</td>\n",
       "      <td>Africa</td>\n",
       "      <td>DZA</td>\n",
       "    </tr>\n",
       "    <tr>\n",
       "      <th>3</th>\n",
       "      <td>2020-01-22</td>\n",
       "      <td>Andorra</td>\n",
       "      <td>0</td>\n",
       "      <td>0</td>\n",
       "      <td>0</td>\n",
       "      <td>0</td>\n",
       "      <td>0</td>\n",
       "      <td>0</td>\n",
       "      <td>0</td>\n",
       "      <td>Europe</td>\n",
       "      <td>AND</td>\n",
       "    </tr>\n",
       "    <tr>\n",
       "      <th>4</th>\n",
       "      <td>2020-01-22</td>\n",
       "      <td>Angola</td>\n",
       "      <td>0</td>\n",
       "      <td>0</td>\n",
       "      <td>0</td>\n",
       "      <td>0</td>\n",
       "      <td>0</td>\n",
       "      <td>0</td>\n",
       "      <td>0</td>\n",
       "      <td>Africa</td>\n",
       "      <td>AGO</td>\n",
       "    </tr>\n",
       "  </tbody>\n",
       "</table>\n",
       "</div>"
      ],
      "text/plain": [
       "         Date Country/Region  Confirmed  Deaths  Recovered  Active  New cases  \\\n",
       "0  2020-01-22    Afghanistan          0       0          0       0          0   \n",
       "1  2020-01-22        Albania          0       0          0       0          0   \n",
       "2  2020-01-22        Algeria          0       0          0       0          0   \n",
       "3  2020-01-22        Andorra          0       0          0       0          0   \n",
       "4  2020-01-22         Angola          0       0          0       0          0   \n",
       "\n",
       "   New deaths  New recovered             WHO Region iso_alpha  \n",
       "0           0              0  Eastern Mediterranean       AFG  \n",
       "1           0              0                 Europe       ALB  \n",
       "2           0              0                 Africa       DZA  \n",
       "3           0              0                 Europe       AND  \n",
       "4           0              0                 Africa       AGO  "
      ]
     },
     "execution_count": 41,
     "metadata": {},
     "output_type": "execute_result"
    }
   ],
   "source": [
    "covid_grouped.head()"
   ]
  },
  {
   "cell_type": "code",
   "execution_count": 49,
   "id": "526e24b8",
   "metadata": {},
   "outputs": [
    {
     "data": {
      "text/plain": [
       "Date              datetime64[ns]\n",
       "Country/Region            object\n",
       "Confirmed                  int64\n",
       "Deaths                     int64\n",
       "Recovered                  int64\n",
       "Active                     int64\n",
       "New cases                  int64\n",
       "New deaths                 int64\n",
       "New recovered              int64\n",
       "WHO Region                object\n",
       "iso_alpha                 object\n",
       "dtype: object"
      ]
     },
     "execution_count": 49,
     "metadata": {},
     "output_type": "execute_result"
    }
   ],
   "source": [
    "covid_grouped.dtypes"
   ]
  },
  {
   "cell_type": "code",
   "execution_count": 48,
   "id": "2777f2d9",
   "metadata": {},
   "outputs": [],
   "source": [
    "covid_grouped['Date']=pd.to_datetime(covid_grouped['Date'],format='%Y-%m-%d')"
   ]
  },
  {
   "cell_type": "code",
   "execution_count": 50,
   "id": "9d2fcc83",
   "metadata": {},
   "outputs": [],
   "source": [
    "highest_newcases=covid_grouped['New cases'].max()"
   ]
  },
  {
   "cell_type": "code",
   "execution_count": 51,
   "id": "cc918adf",
   "metadata": {},
   "outputs": [
    {
     "data": {
      "text/plain": [
       "77255"
      ]
     },
     "execution_count": 51,
     "metadata": {},
     "output_type": "execute_result"
    }
   ],
   "source": [
    "highest_newcases"
   ]
  },
  {
   "cell_type": "code",
   "execution_count": 52,
   "id": "5913a237",
   "metadata": {},
   "outputs": [],
   "source": [
    "country_with_highest_cases=covid_grouped[covid_grouped['New cases']==highest_newcases]"
   ]
  },
  {
   "cell_type": "code",
   "execution_count": 53,
   "id": "02f1f6c8",
   "metadata": {},
   "outputs": [
    {
     "data": {
      "text/html": [
       "<div>\n",
       "<style scoped>\n",
       "    .dataframe tbody tr th:only-of-type {\n",
       "        vertical-align: middle;\n",
       "    }\n",
       "\n",
       "    .dataframe tbody tr th {\n",
       "        vertical-align: top;\n",
       "    }\n",
       "\n",
       "    .dataframe thead th {\n",
       "        text-align: right;\n",
       "    }\n",
       "</style>\n",
       "<table border=\"1\" class=\"dataframe\">\n",
       "  <thead>\n",
       "    <tr style=\"text-align: right;\">\n",
       "      <th></th>\n",
       "      <th>Date</th>\n",
       "      <th>Country/Region</th>\n",
       "      <th>Confirmed</th>\n",
       "      <th>Deaths</th>\n",
       "      <th>Recovered</th>\n",
       "      <th>Active</th>\n",
       "      <th>New cases</th>\n",
       "      <th>New deaths</th>\n",
       "      <th>New recovered</th>\n",
       "      <th>WHO Region</th>\n",
       "      <th>iso_alpha</th>\n",
       "    </tr>\n",
       "  </thead>\n",
       "  <tbody>\n",
       "    <tr>\n",
       "      <th>33085</th>\n",
       "      <td>2020-07-16</td>\n",
       "      <td>US</td>\n",
       "      <td>3576157</td>\n",
       "      <td>138358</td>\n",
       "      <td>1090645</td>\n",
       "      <td>2347154</td>\n",
       "      <td>77255</td>\n",
       "      <td>943</td>\n",
       "      <td>14763</td>\n",
       "      <td>Americas</td>\n",
       "      <td>USA</td>\n",
       "    </tr>\n",
       "  </tbody>\n",
       "</table>\n",
       "</div>"
      ],
      "text/plain": [
       "            Date Country/Region  Confirmed  Deaths  Recovered   Active  \\\n",
       "33085 2020-07-16             US    3576157  138358    1090645  2347154   \n",
       "\n",
       "       New cases  New deaths  New recovered WHO Region iso_alpha  \n",
       "33085      77255         943          14763   Americas       USA  "
      ]
     },
     "execution_count": 53,
     "metadata": {},
     "output_type": "execute_result"
    }
   ],
   "source": [
    "country_with_highest_cases"
   ]
  },
  {
   "cell_type": "code",
   "execution_count": 54,
   "id": "4644a39a",
   "metadata": {},
   "outputs": [
    {
     "data": {
      "text/plain": [
       "(35156, 11)"
      ]
     },
     "execution_count": 54,
     "metadata": {},
     "output_type": "execute_result"
    }
   ],
   "source": [
    "covid_grouped.shape"
   ]
  },
  {
   "cell_type": "code",
   "execution_count": null,
   "id": "a93912db",
   "metadata": {},
   "outputs": [
    {
     "name": "stdout",
     "output_type": "stream",
     "text": [
      "The US records the highest the number of covid cases on 2020-07-16T00:00:00.000000000, this lead to a spike in the number of covid cases in US and leads to wide spread of covid among the citizens or sudden spike might be due to large testing and tracking of infection. US records 77255 on 2020-07-16T00:00:00.000000000\n"
     ]
    },
    {
     "data": {
      "text/html": [
       "<div>\n",
       "<style scoped>\n",
       "    .dataframe tbody tr th:only-of-type {\n",
       "        vertical-align: middle;\n",
       "    }\n",
       "\n",
       "    .dataframe tbody tr th {\n",
       "        vertical-align: top;\n",
       "    }\n",
       "\n",
       "    .dataframe thead th {\n",
       "        text-align: right;\n",
       "    }\n",
       "</style>\n",
       "<table border=\"1\" class=\"dataframe\">\n",
       "  <thead>\n",
       "    <tr style=\"text-align: right;\">\n",
       "      <th></th>\n",
       "      <th>index</th>\n",
       "      <th>Recovered</th>\n",
       "    </tr>\n",
       "  </thead>\n",
       "  <tbody>\n",
       "    <tr>\n",
       "      <th>0</th>\n",
       "      <td>79</td>\n",
       "      <td>0</td>\n",
       "    </tr>\n",
       "    <tr>\n",
       "      <th>1</th>\n",
       "      <td>266</td>\n",
       "      <td>0</td>\n",
       "    </tr>\n",
       "    <tr>\n",
       "      <th>2</th>\n",
       "      <td>453</td>\n",
       "      <td>0</td>\n",
       "    </tr>\n",
       "    <tr>\n",
       "      <th>3</th>\n",
       "      <td>640</td>\n",
       "      <td>0</td>\n",
       "    </tr>\n",
       "    <tr>\n",
       "      <th>4</th>\n",
       "      <td>827</td>\n",
       "      <td>0</td>\n",
       "    </tr>\n",
       "    <tr>\n",
       "      <th>...</th>\n",
       "      <td>...</td>\n",
       "      <td>...</td>\n",
       "    </tr>\n",
       "    <tr>\n",
       "      <th>183</th>\n",
       "      <td>34300</td>\n",
       "      <td>817209</td>\n",
       "    </tr>\n",
       "    <tr>\n",
       "      <th>184</th>\n",
       "      <td>34487</td>\n",
       "      <td>849432</td>\n",
       "    </tr>\n",
       "    <tr>\n",
       "      <th>185</th>\n",
       "      <td>34674</td>\n",
       "      <td>885573</td>\n",
       "    </tr>\n",
       "    <tr>\n",
       "      <th>186</th>\n",
       "      <td>34861</td>\n",
       "      <td>917568</td>\n",
       "    </tr>\n",
       "    <tr>\n",
       "      <th>187</th>\n",
       "      <td>35048</td>\n",
       "      <td>951166</td>\n",
       "    </tr>\n",
       "  </tbody>\n",
       "</table>\n",
       "<p>188 rows × 2 columns</p>\n",
       "</div>"
      ],
      "text/plain": [
       "     index  Recovered\n",
       "0       79          0\n",
       "1      266          0\n",
       "2      453          0\n",
       "3      640          0\n",
       "4      827          0\n",
       "..     ...        ...\n",
       "183  34300     817209\n",
       "184  34487     849432\n",
       "185  34674     885573\n",
       "186  34861     917568\n",
       "187  35048     951166\n",
       "\n",
       "[188 rows x 2 columns]"
      ]
     },
     "execution_count": 63,
     "metadata": {},
     "output_type": "execute_result"
    }
   ],
   "source": [
    "print(f'The {country_with_highest_cases['Country/Region'].values[0]} records the highest the number of covid cases on {country_with_highest_cases['Date'].values[0]}, this lead to a spike in the number of covid cases in US and leads to wide spread of covid among the citizens or sudden spike might be due to large testing and tracking of infection. US records {country_with_highest_cases['New cases'].values[0]} on {country_with_highest_cases['Date'].values[0]}')\n",
    "covid_grouped[covid_grouped['Country/Region']=='India']['Recovered']"
   ]
  },
  {
   "cell_type": "code",
   "execution_count": 67,
   "id": "691e7460",
   "metadata": {},
   "outputs": [
    {
     "data": {
      "text/plain": [
       "Text(0.5, 1.0, 'Recovery In India')"
      ]
     },
     "execution_count": 67,
     "metadata": {},
     "output_type": "execute_result"
    },
    {
     "data": {
      "image/png": "[encoded data removed]",
      "text/plain": [
       "<Figure size 640x480 with 1 Axes>"
      ]
     },
     "metadata": {},
     "output_type": "display_data"
    }
   ],
   "source": [
    "## Recovery Rate Progression \n",
    "plt.plot(covid_grouped[covid_grouped['Country/Region']=='India']['Date'],covid_grouped[covid_grouped['Country/Region']=='India']['Recovered'])\n",
    "plt.xlabel('Date')\n",
    "plt.ylabel('Recovered')\n",
    "plt.title('Recovery In India')"
   ]
  },
  {
   "cell_type": "code",
   "execution_count": null,
   "id": "114126c4",
   "metadata": {},
   "outputs": [
    {
     "data": {
      "text/plain": [
       "Text(0.5, 1.0, 'Recovery In India')"
      ]
     },
     "execution_count": 66,
     "metadata": {},
     "output_type": "execute_result"
    },
    {
     "data": {
      "image/png": "[encoded data removed]",
      "text/plain": [
       "<Figure size 640x480 with 1 Axes>"
      ]
     },
     "metadata": {},
     "output_type": "display_data"
    }
   ],
   "source": [
    "## Recovery Rate Progression \n",
    "plt.plot(covid_grouped[covid_grouped['Country/Region']=='Brazil']['Date'],covid_grouped[covid_grouped['Country/Region']=='Brazil']['Recovered'])\n",
    "plt.xlabel('Date')\n",
    "plt.ylabel('Recovered')\n",
    "plt.title('Recovery In Brazil')"
   ]
  },
  {
   "cell_type": "code",
   "execution_count": 82,
   "id": "17303095",
   "metadata": {},
   "outputs": [
    {
     "name": "stderr",
     "output_type": "stream",
     "text": [
      "C:\\Users\\Mayank chouhan\\AppData\\Local\\Temp\\ipykernel_18532\\2790168933.py:1: FutureWarning:\n",
      "\n",
      "The provided callable <built-in function sum> is currently using SeriesGroupBy.sum. In a future version of pandas, the provided callable will be used directly. To keep current behavior pass the string \"sum\" instead.\n",
      "\n",
      "C:\\Users\\Mayank chouhan\\AppData\\Local\\Temp\\ipykernel_18532\\2790168933.py:1: FutureWarning:\n",
      "\n",
      "The provided callable <built-in function sum> is currently using SeriesGroupBy.sum. In a future version of pandas, the provided callable will be used directly. To keep current behavior pass the string \"sum\" instead.\n",
      "\n"
     ]
    }
   ],
   "source": [
    "grouped_country_data=covid_grouped.groupby('Country/Region').agg({\n",
    "    'New cases': sum,\n",
    "    'New recovered':sum,\n",
    "}).reset_index()\n"
   ]
  },
  {
   "cell_type": "code",
   "execution_count": 83,
   "id": "b377a021",
   "metadata": {},
   "outputs": [],
   "source": [
    "india_cases_recovery=grouped_country_data[grouped_country_data['Country/Region']=='India']"
   ]
  },
  {
   "cell_type": "code",
   "execution_count": 84,
   "id": "d1665a16",
   "metadata": {},
   "outputs": [],
   "source": [
    "brazil_cases_recovery=grouped_country_data[grouped_country_data['Country/Region']=='Brazil']"
   ]
  },
  {
   "cell_type": "code",
   "execution_count": 86,
   "id": "370ba81c",
   "metadata": {},
   "outputs": [
    {
     "name": "stdout",
     "output_type": "stream",
     "text": [
      "India recieved 1480073 out of which 951166 got recovered\n",
      "Brazil recieved 2442375 out of which 1846641 got recovered\n"
     ]
    }
   ],
   "source": [
    "print(f'India recieved {india_cases_recovery['New cases'].values[0]} out of which {india_cases_recovery['New recovered'].values[0]} got recovered')\n",
    "print(f'Brazil recieved {brazil_cases_recovery['New cases'].values[0]} out of which {brazil_cases_recovery['New recovered'].values[0]} got recovered')"
   ]
  },
  {
   "cell_type": "code",
   "execution_count": 92,
   "id": "9c078b59",
   "metadata": {},
   "outputs": [
    {
     "name": "stdout",
     "output_type": "stream",
     "text": [
      "Recovery Rate of New Cases for India is : 64.26\n"
     ]
    }
   ],
   "source": [
    "revovery_percent_india_new_cases=(india_cases_recovery['New recovered'].values[0]/india_cases_recovery['New cases'].values[0])*100\n",
    "print(f'Recovery Rate of New Cases for India is : {round(revovery_percent_india_new_cases,2)}')"
   ]
  },
  {
   "cell_type": "code",
   "execution_count": 94,
   "id": "6c637559",
   "metadata": {},
   "outputs": [
    {
     "name": "stdout",
     "output_type": "stream",
     "text": [
      "Recovery Rate of New Cases for Brazil is : 75.61\n"
     ]
    }
   ],
   "source": [
    "revovery_percent_brazil_new_cases=(brazil_cases_recovery['New recovered'].values[0]/brazil_cases_recovery['New cases'].values[0])*100\n",
    "print(f'Recovery Rate of New Cases for Brazil is : {round(revovery_percent_brazil_new_cases,2)}')"
   ]
  },
  {
   "cell_type": "code",
   "execution_count": null,
   "id": "b4e6f2a3",
   "metadata": {},
   "outputs": [],
   "source": [
    "# Both india and brazil had a good rate of recovery over time .\n",
    "# Both India and Brazil founds it tough to deal with the infection in first five months but after that theres a sudden increase in spike of recovery in both countries\n",
    "# Brazil reports higher number of cases than India with more number of recoveries in the time period given in data\n",
    "# Brazil has more recovery rate as compare to india "
   ]
  },
  {
   "cell_type": "code",
   "execution_count": 97,
   "id": "3bbf33d8",
   "metadata": {},
   "outputs": [],
   "source": [
    "europe_countries=covid_grouped[covid_grouped['WHO Region']=='Europe']"
   ]
  },
  {
   "cell_type": "code",
   "execution_count": 98,
   "id": "e04124e9",
   "metadata": {},
   "outputs": [
    {
     "data": {
      "text/html": [
       "<div>\n",
       "<style scoped>\n",
       "    .dataframe tbody tr th:only-of-type {\n",
       "        vertical-align: middle;\n",
       "    }\n",
       "\n",
       "    .dataframe tbody tr th {\n",
       "        vertical-align: top;\n",
       "    }\n",
       "\n",
       "    .dataframe thead th {\n",
       "        text-align: right;\n",
       "    }\n",
       "</style>\n",
       "<table border=\"1\" class=\"dataframe\">\n",
       "  <thead>\n",
       "    <tr style=\"text-align: right;\">\n",
       "      <th></th>\n",
       "      <th>Date</th>\n",
       "      <th>Country/Region</th>\n",
       "      <th>Confirmed</th>\n",
       "      <th>Deaths</th>\n",
       "      <th>Recovered</th>\n",
       "      <th>Active</th>\n",
       "      <th>New cases</th>\n",
       "      <th>New deaths</th>\n",
       "      <th>New recovered</th>\n",
       "      <th>WHO Region</th>\n",
       "      <th>iso_alpha</th>\n",
       "    </tr>\n",
       "  </thead>\n",
       "  <tbody>\n",
       "    <tr>\n",
       "      <th>1</th>\n",
       "      <td>2020-01-22</td>\n",
       "      <td>Albania</td>\n",
       "      <td>0</td>\n",
       "      <td>0</td>\n",
       "      <td>0</td>\n",
       "      <td>0</td>\n",
       "      <td>0</td>\n",
       "      <td>0</td>\n",
       "      <td>0</td>\n",
       "      <td>Europe</td>\n",
       "      <td>ALB</td>\n",
       "    </tr>\n",
       "    <tr>\n",
       "      <th>3</th>\n",
       "      <td>2020-01-22</td>\n",
       "      <td>Andorra</td>\n",
       "      <td>0</td>\n",
       "      <td>0</td>\n",
       "      <td>0</td>\n",
       "      <td>0</td>\n",
       "      <td>0</td>\n",
       "      <td>0</td>\n",
       "      <td>0</td>\n",
       "      <td>Europe</td>\n",
       "      <td>AND</td>\n",
       "    </tr>\n",
       "    <tr>\n",
       "      <th>7</th>\n",
       "      <td>2020-01-22</td>\n",
       "      <td>Armenia</td>\n",
       "      <td>0</td>\n",
       "      <td>0</td>\n",
       "      <td>0</td>\n",
       "      <td>0</td>\n",
       "      <td>0</td>\n",
       "      <td>0</td>\n",
       "      <td>0</td>\n",
       "      <td>Europe</td>\n",
       "      <td>ARM</td>\n",
       "    </tr>\n",
       "    <tr>\n",
       "      <th>9</th>\n",
       "      <td>2020-01-22</td>\n",
       "      <td>Austria</td>\n",
       "      <td>0</td>\n",
       "      <td>0</td>\n",
       "      <td>0</td>\n",
       "      <td>0</td>\n",
       "      <td>0</td>\n",
       "      <td>0</td>\n",
       "      <td>0</td>\n",
       "      <td>Europe</td>\n",
       "      <td>AUT</td>\n",
       "    </tr>\n",
       "    <tr>\n",
       "      <th>10</th>\n",
       "      <td>2020-01-22</td>\n",
       "      <td>Azerbaijan</td>\n",
       "      <td>0</td>\n",
       "      <td>0</td>\n",
       "      <td>0</td>\n",
       "      <td>0</td>\n",
       "      <td>0</td>\n",
       "      <td>0</td>\n",
       "      <td>0</td>\n",
       "      <td>Europe</td>\n",
       "      <td>AZE</td>\n",
       "    </tr>\n",
       "    <tr>\n",
       "      <th>...</th>\n",
       "      <td>...</td>\n",
       "      <td>...</td>\n",
       "      <td>...</td>\n",
       "      <td>...</td>\n",
       "      <td>...</td>\n",
       "      <td>...</td>\n",
       "      <td>...</td>\n",
       "      <td>...</td>\n",
       "      <td>...</td>\n",
       "      <td>...</td>\n",
       "      <td>...</td>\n",
       "    </tr>\n",
       "    <tr>\n",
       "      <th>35134</th>\n",
       "      <td>2020-07-27</td>\n",
       "      <td>Tajikistan</td>\n",
       "      <td>7235</td>\n",
       "      <td>60</td>\n",
       "      <td>6028</td>\n",
       "      <td>1147</td>\n",
       "      <td>43</td>\n",
       "      <td>1</td>\n",
       "      <td>58</td>\n",
       "      <td>Europe</td>\n",
       "      <td>TJK</td>\n",
       "    </tr>\n",
       "    <tr>\n",
       "      <th>35141</th>\n",
       "      <td>2020-07-27</td>\n",
       "      <td>Turkey</td>\n",
       "      <td>227019</td>\n",
       "      <td>5630</td>\n",
       "      <td>210469</td>\n",
       "      <td>10920</td>\n",
       "      <td>919</td>\n",
       "      <td>17</td>\n",
       "      <td>982</td>\n",
       "      <td>Europe</td>\n",
       "      <td>TUR</td>\n",
       "    </tr>\n",
       "    <tr>\n",
       "      <th>35144</th>\n",
       "      <td>2020-07-27</td>\n",
       "      <td>Ukraine</td>\n",
       "      <td>67096</td>\n",
       "      <td>1636</td>\n",
       "      <td>37202</td>\n",
       "      <td>28258</td>\n",
       "      <td>835</td>\n",
       "      <td>11</td>\n",
       "      <td>317</td>\n",
       "      <td>Europe</td>\n",
       "      <td>UKR</td>\n",
       "    </tr>\n",
       "    <tr>\n",
       "      <th>35146</th>\n",
       "      <td>2020-07-27</td>\n",
       "      <td>United Kingdom</td>\n",
       "      <td>301708</td>\n",
       "      <td>45844</td>\n",
       "      <td>1437</td>\n",
       "      <td>254427</td>\n",
       "      <td>688</td>\n",
       "      <td>7</td>\n",
       "      <td>3</td>\n",
       "      <td>Europe</td>\n",
       "      <td>GBR</td>\n",
       "    </tr>\n",
       "    <tr>\n",
       "      <th>35148</th>\n",
       "      <td>2020-07-27</td>\n",
       "      <td>Uzbekistan</td>\n",
       "      <td>21209</td>\n",
       "      <td>121</td>\n",
       "      <td>11674</td>\n",
       "      <td>9414</td>\n",
       "      <td>678</td>\n",
       "      <td>5</td>\n",
       "      <td>569</td>\n",
       "      <td>Europe</td>\n",
       "      <td>UZB</td>\n",
       "    </tr>\n",
       "  </tbody>\n",
       "</table>\n",
       "<p>10528 rows × 11 columns</p>\n",
       "</div>"
      ],
      "text/plain": [
       "            Date  Country/Region  Confirmed  Deaths  Recovered  Active  \\\n",
       "1     2020-01-22         Albania          0       0          0       0   \n",
       "3     2020-01-22         Andorra          0       0          0       0   \n",
       "7     2020-01-22         Armenia          0       0          0       0   \n",
       "9     2020-01-22         Austria          0       0          0       0   \n",
       "10    2020-01-22      Azerbaijan          0       0          0       0   \n",
       "...          ...             ...        ...     ...        ...     ...   \n",
       "35134 2020-07-27      Tajikistan       7235      60       6028    1147   \n",
       "35141 2020-07-27          Turkey     227019    5630     210469   10920   \n",
       "35144 2020-07-27         Ukraine      67096    1636      37202   28258   \n",
       "35146 2020-07-27  United Kingdom     301708   45844       1437  254427   \n",
       "35148 2020-07-27      Uzbekistan      21209     121      11674    9414   \n",
       "\n",
       "       New cases  New deaths  New recovered WHO Region iso_alpha  \n",
       "1              0           0              0     Europe       ALB  \n",
       "3              0           0              0     Europe       AND  \n",
       "7              0           0              0     Europe       ARM  \n",
       "9              0           0              0     Europe       AUT  \n",
       "10             0           0              0     Europe       AZE  \n",
       "...          ...         ...            ...        ...       ...  \n",
       "35134         43           1             58     Europe       TJK  \n",
       "35141        919          17            982     Europe       TUR  \n",
       "35144        835          11            317     Europe       UKR  \n",
       "35146        688           7              3     Europe       GBR  \n",
       "35148        678           5            569     Europe       UZB  \n",
       "\n",
       "[10528 rows x 11 columns]"
      ]
     },
     "execution_count": 98,
     "metadata": {},
     "output_type": "execute_result"
    }
   ],
   "source": [
    "europe_countries"
   ]
  },
  {
   "cell_type": "code",
   "execution_count": 103,
   "id": "d45c5bbc",
   "metadata": {},
   "outputs": [
    {
     "data": {
      "text/plain": [
       "array(['Albania', 'Andorra', 'Armenia', 'Austria', 'Azerbaijan',\n",
       "       'Belarus', 'Belgium', 'Bosnia and Herzegovina', 'Bulgaria',\n",
       "       'Croatia', 'Cyprus', 'Czechia', 'Denmark', 'Estonia', 'Finland',\n",
       "       'France', 'Georgia', 'Germany', 'Greece', 'Greenland', 'Holy See',\n",
       "       'Hungary', 'Iceland', 'Ireland', 'Israel', 'Italy', 'Kazakhstan',\n",
       "       'Kosovo', 'Kyrgyzstan', 'Latvia', 'Liechtenstein', 'Lithuania',\n",
       "       'Luxembourg', 'Malta', 'Moldova', 'Monaco', 'Montenegro',\n",
       "       'Netherlands', 'North Macedonia', 'Norway', 'Poland', 'Portugal',\n",
       "       'Romania', 'Russia', 'San Marino', 'Serbia', 'Slovakia',\n",
       "       'Slovenia', 'Spain', 'Sweden', 'Switzerland', 'Tajikistan',\n",
       "       'Turkey', 'Ukraine', 'United Kingdom', 'Uzbekistan'], dtype=object)"
      ]
     },
     "execution_count": 103,
     "metadata": {},
     "output_type": "execute_result"
    }
   ],
   "source": [
    "europe_countries['Country/Region'].unique()"
   ]
  },
  {
   "cell_type": "code",
   "execution_count": 109,
   "id": "78b3de8d",
   "metadata": {},
   "outputs": [
    {
     "data": {
      "text/plain": [
       "Text(0.5, 1.0, 'Pattern to Identify trends between Death and Time Period')"
      ]
     },
     "execution_count": 109,
     "metadata": {},
     "output_type": "execute_result"
    },
    {
     "data": {
      "image/png": "[encoded data removed]",
      "text/plain": [
       "<Figure size 640x480 with 1 Axes>"
      ]
     },
     "metadata": {},
     "output_type": "display_data"
    }
   ],
   "source": [
    "for country in europe_countries['Country/Region'].unique():\n",
    "  plt.plot(europe_countries[europe_countries['Country/Region']==country]['Date'],europe_countries[europe_countries['Country/Region']==country]['Deaths'],label=country)\n",
    "plt.legend()\n",
    "plt.xlabel('Time Period')\n",
    "plt.ylabel('Deaths')\n",
    "plt.title('Pattern to Identify trends between Death and Time Period')"
   ]
  },
  {
   "cell_type": "code",
   "execution_count": 121,
   "id": "8b72b2dc",
   "metadata": {},
   "outputs": [],
   "source": [
    "# Usa Data Analysis\n",
    "usa_data=covid_grouped[covid_grouped['iso_alpha']=='USA']"
   ]
  },
  {
   "cell_type": "code",
   "execution_count": 122,
   "id": "03dc1726",
   "metadata": {},
   "outputs": [
    {
     "data": {
      "text/html": [
       "<div>\n",
       "<style scoped>\n",
       "    .dataframe tbody tr th:only-of-type {\n",
       "        vertical-align: middle;\n",
       "    }\n",
       "\n",
       "    .dataframe tbody tr th {\n",
       "        vertical-align: top;\n",
       "    }\n",
       "\n",
       "    .dataframe thead th {\n",
       "        text-align: right;\n",
       "    }\n",
       "</style>\n",
       "<table border=\"1\" class=\"dataframe\">\n",
       "  <thead>\n",
       "    <tr style=\"text-align: right;\">\n",
       "      <th></th>\n",
       "      <th>Date</th>\n",
       "      <th>Country/Region</th>\n",
       "      <th>Confirmed</th>\n",
       "      <th>Deaths</th>\n",
       "      <th>Recovered</th>\n",
       "      <th>Active</th>\n",
       "      <th>New cases</th>\n",
       "      <th>New deaths</th>\n",
       "      <th>New recovered</th>\n",
       "      <th>WHO Region</th>\n",
       "      <th>iso_alpha</th>\n",
       "    </tr>\n",
       "  </thead>\n",
       "  <tbody>\n",
       "    <tr>\n",
       "      <th>173</th>\n",
       "      <td>2020-01-22</td>\n",
       "      <td>US</td>\n",
       "      <td>1</td>\n",
       "      <td>0</td>\n",
       "      <td>0</td>\n",
       "      <td>1</td>\n",
       "      <td>0</td>\n",
       "      <td>0</td>\n",
       "      <td>0</td>\n",
       "      <td>Americas</td>\n",
       "      <td>USA</td>\n",
       "    </tr>\n",
       "    <tr>\n",
       "      <th>360</th>\n",
       "      <td>2020-01-23</td>\n",
       "      <td>US</td>\n",
       "      <td>1</td>\n",
       "      <td>0</td>\n",
       "      <td>0</td>\n",
       "      <td>1</td>\n",
       "      <td>0</td>\n",
       "      <td>0</td>\n",
       "      <td>0</td>\n",
       "      <td>Americas</td>\n",
       "      <td>USA</td>\n",
       "    </tr>\n",
       "    <tr>\n",
       "      <th>547</th>\n",
       "      <td>2020-01-24</td>\n",
       "      <td>US</td>\n",
       "      <td>2</td>\n",
       "      <td>0</td>\n",
       "      <td>0</td>\n",
       "      <td>2</td>\n",
       "      <td>1</td>\n",
       "      <td>0</td>\n",
       "      <td>0</td>\n",
       "      <td>Americas</td>\n",
       "      <td>USA</td>\n",
       "    </tr>\n",
       "    <tr>\n",
       "      <th>734</th>\n",
       "      <td>2020-01-25</td>\n",
       "      <td>US</td>\n",
       "      <td>2</td>\n",
       "      <td>0</td>\n",
       "      <td>0</td>\n",
       "      <td>2</td>\n",
       "      <td>0</td>\n",
       "      <td>0</td>\n",
       "      <td>0</td>\n",
       "      <td>Americas</td>\n",
       "      <td>USA</td>\n",
       "    </tr>\n",
       "    <tr>\n",
       "      <th>921</th>\n",
       "      <td>2020-01-26</td>\n",
       "      <td>US</td>\n",
       "      <td>5</td>\n",
       "      <td>0</td>\n",
       "      <td>0</td>\n",
       "      <td>5</td>\n",
       "      <td>3</td>\n",
       "      <td>0</td>\n",
       "      <td>0</td>\n",
       "      <td>Americas</td>\n",
       "      <td>USA</td>\n",
       "    </tr>\n",
       "    <tr>\n",
       "      <th>...</th>\n",
       "      <td>...</td>\n",
       "      <td>...</td>\n",
       "      <td>...</td>\n",
       "      <td>...</td>\n",
       "      <td>...</td>\n",
       "      <td>...</td>\n",
       "      <td>...</td>\n",
       "      <td>...</td>\n",
       "      <td>...</td>\n",
       "      <td>...</td>\n",
       "      <td>...</td>\n",
       "    </tr>\n",
       "    <tr>\n",
       "      <th>34394</th>\n",
       "      <td>2020-07-23</td>\n",
       "      <td>US</td>\n",
       "      <td>4038816</td>\n",
       "      <td>144430</td>\n",
       "      <td>1233269</td>\n",
       "      <td>2661117</td>\n",
       "      <td>68695</td>\n",
       "      <td>1114</td>\n",
       "      <td>22420</td>\n",
       "      <td>Americas</td>\n",
       "      <td>USA</td>\n",
       "    </tr>\n",
       "    <tr>\n",
       "      <th>34581</th>\n",
       "      <td>2020-07-24</td>\n",
       "      <td>US</td>\n",
       "      <td>4112531</td>\n",
       "      <td>145560</td>\n",
       "      <td>1261624</td>\n",
       "      <td>2705347</td>\n",
       "      <td>73715</td>\n",
       "      <td>1130</td>\n",
       "      <td>28355</td>\n",
       "      <td>Americas</td>\n",
       "      <td>USA</td>\n",
       "    </tr>\n",
       "    <tr>\n",
       "      <th>34768</th>\n",
       "      <td>2020-07-25</td>\n",
       "      <td>US</td>\n",
       "      <td>4178970</td>\n",
       "      <td>146465</td>\n",
       "      <td>1279414</td>\n",
       "      <td>2753091</td>\n",
       "      <td>66439</td>\n",
       "      <td>905</td>\n",
       "      <td>17790</td>\n",
       "      <td>Americas</td>\n",
       "      <td>USA</td>\n",
       "    </tr>\n",
       "    <tr>\n",
       "      <th>34955</th>\n",
       "      <td>2020-07-26</td>\n",
       "      <td>US</td>\n",
       "      <td>4233923</td>\n",
       "      <td>146935</td>\n",
       "      <td>1297863</td>\n",
       "      <td>2789125</td>\n",
       "      <td>54953</td>\n",
       "      <td>470</td>\n",
       "      <td>18449</td>\n",
       "      <td>Americas</td>\n",
       "      <td>USA</td>\n",
       "    </tr>\n",
       "    <tr>\n",
       "      <th>35142</th>\n",
       "      <td>2020-07-27</td>\n",
       "      <td>US</td>\n",
       "      <td>4290259</td>\n",
       "      <td>148011</td>\n",
       "      <td>1325804</td>\n",
       "      <td>2816444</td>\n",
       "      <td>56336</td>\n",
       "      <td>1076</td>\n",
       "      <td>27941</td>\n",
       "      <td>Americas</td>\n",
       "      <td>USA</td>\n",
       "    </tr>\n",
       "  </tbody>\n",
       "</table>\n",
       "<p>188 rows × 11 columns</p>\n",
       "</div>"
      ],
      "text/plain": [
       "            Date Country/Region  Confirmed  Deaths  Recovered   Active  \\\n",
       "173   2020-01-22             US          1       0          0        1   \n",
       "360   2020-01-23             US          1       0          0        1   \n",
       "547   2020-01-24             US          2       0          0        2   \n",
       "734   2020-01-25             US          2       0          0        2   \n",
       "921   2020-01-26             US          5       0          0        5   \n",
       "...          ...            ...        ...     ...        ...      ...   \n",
       "34394 2020-07-23             US    4038816  144430    1233269  2661117   \n",
       "34581 2020-07-24             US    4112531  145560    1261624  2705347   \n",
       "34768 2020-07-25             US    4178970  146465    1279414  2753091   \n",
       "34955 2020-07-26             US    4233923  146935    1297863  2789125   \n",
       "35142 2020-07-27             US    4290259  148011    1325804  2816444   \n",
       "\n",
       "       New cases  New deaths  New recovered WHO Region iso_alpha  \n",
       "173            0           0              0   Americas       USA  \n",
       "360            0           0              0   Americas       USA  \n",
       "547            1           0              0   Americas       USA  \n",
       "734            0           0              0   Americas       USA  \n",
       "921            3           0              0   Americas       USA  \n",
       "...          ...         ...            ...        ...       ...  \n",
       "34394      68695        1114          22420   Americas       USA  \n",
       "34581      73715        1130          28355   Americas       USA  \n",
       "34768      66439         905          17790   Americas       USA  \n",
       "34955      54953         470          18449   Americas       USA  \n",
       "35142      56336        1076          27941   Americas       USA  \n",
       "\n",
       "[188 rows x 11 columns]"
      ]
     },
     "execution_count": 122,
     "metadata": {},
     "output_type": "execute_result"
    }
   ],
   "source": [
    "usa_data"
   ]
  },
  {
   "cell_type": "code",
   "execution_count": null,
   "id": "c17e482d",
   "metadata": {},
   "outputs": [
    {
     "data": {
      "text/plain": [
       "Text(0.5, 1.0, 'Trends in New Cases at USA')"
      ]
     },
     "execution_count": 124,
     "metadata": {},
     "output_type": "execute_result"
    },
    {
     "data": {
      "image/png": "[encoded data removed]",
      "text/plain": [
       "<Figure size 640x480 with 1 Axes>"
      ]
     },
     "metadata": {},
     "output_type": "display_data"
    }
   ],
   "source": [
    "# Rise in Confirmed Cases \n",
    "plt.plot(usa_data['Date'],usa_data['New cases'])\n",
    "plt.xlabel('Time Peroid')\n",
    "plt.ylabel('New Cases')\n",
    "plt.title('Trends in New Cases at USA')\n",
    "#  This shows there was a zig zag increase in number of cases with time at begining there was zero number of cases but suddenly after March the peak begins then again on july there was downfall in number of cases but after that usa reports highest case a day among all the countries in the world"
   ]
  },
  {
   "cell_type": "code",
   "execution_count": 125,
   "id": "b9bfb0c6",
   "metadata": {},
   "outputs": [
    {
     "data": {
      "text/plain": [
       "Text(0.5, 1.0, 'Trends in New Deaths at USA')"
      ]
     },
     "execution_count": 125,
     "metadata": {},
     "output_type": "execute_result"
    },
    {
     "data": {
      "image/png": "[encoded data removed]",
      "text/plain": [
       "<Figure size 640x480 with 1 Axes>"
      ]
     },
     "metadata": {},
     "output_type": "display_data"
    }
   ],
   "source": [
    "# Rise in Deaths\n",
    "plt.plot(usa_data['Date'],usa_data['New deaths'])\n",
    "plt.xlabel('Time Peroid')\n",
    "plt.ylabel('New Deaths')\n",
    "plt.title('Trends in New Deaths at USA')"
   ]
  },
  {
   "cell_type": "code",
   "execution_count": 126,
   "id": "1a5610ac",
   "metadata": {},
   "outputs": [],
   "source": [
    "# Lets find a coorelation between new deaths and new cases is their any linear relationship among them\n",
    "from scipy.stats import pearsonr\n",
    "corr,p_value=pearsonr(usa_data['New cases'],usa_data['New deaths'])"
   ]
  },
  {
   "cell_type": "code",
   "execution_count": 128,
   "id": "e7b0c454",
   "metadata": {},
   "outputs": [
    {
     "name": "stdout",
     "output_type": "stream",
     "text": [
      "Correlation between Cases and Deaths in USA is 0.48\n"
     ]
    }
   ],
   "source": [
    "print(f'Correlation between Cases and Deaths in USA is {round(corr,2)}')"
   ]
  },
  {
   "cell_type": "code",
   "execution_count": null,
   "id": "77525828",
   "metadata": {},
   "outputs": [],
   "source": [
    "# There is a linear positive relationship between the cases and deaths which means that with increase in the cases theres increase in deaths at usa"
   ]
  }
 ],
 "metadata": {
  "kernelspec": {
   "display_name": "base",
   "language": "python",
   "name": "python3"
  },
  "language_info": {
   "codemirror_mode": {
    "name": "ipython",
    "version": 3
   },
   "file_extension": ".py",
   "mimetype": "text/x-python",
   "name": "python",
   "nbconvert_exporter": "python",
   "pygments_lexer": "ipython3",
   "version": "3.12.7"
  }
 },
 "nbformat": 4,
 "nbformat_minor": 5
}
